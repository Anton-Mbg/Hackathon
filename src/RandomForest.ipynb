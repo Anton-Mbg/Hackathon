{
 "cells": [
  {
   "cell_type": "code",
   "execution_count": 119,
   "outputs": [],
   "source": [
    "#data preparation from keras skript\n",
    "\n",
    "import pandas as pd\n",
    "\n",
    "import numpy as np\n",
    "\n",
    "from sklearn.ensemble import RandomForestClassifier\n",
    "\n",
    "\n",
    "from sklearn.model_selection import train_test_split\n",
    "\n",
    "from sklearn.metrics import matthews_corrcoef\n",
    "from sklearn.metrics import confusion_matrix\n",
    "\n",
    "\n",
    "import math\n",
    "from sklearn.decomposition import PCA\n",
    "\n",
    "pca = PCA(n_components=5)\n",
    "\n",
    "path=\"../HackathonMicrobiomeData/T2D/GenusT2D_train.csv\"\n",
    "df = pd.read_csv(path)\n",
    "labels = df[\"label\"].values\n",
    "df = df.drop([\"sample_ID\",\"label\"],axis=1).values\n",
    "\n",
    "df = (df-df.mean())/df.std()\n",
    "\n",
    "for i in range(len(df[0])):\n",
    "   df[i] = (df[i] - df[i].mean())/df[i].std()\n",
    "   if math.isnan(df[i][0]):\n",
    "      df[i] = np.zeros(len(df[i]))\n",
    "\n",
    "pca.fit(df)\n",
    "df = pca.transform(df)\n",
    "\n",
    "\n",
    "X_train, X_test, y_train, y_test = train_test_split(df,labels, test_size=0.2)\n"
   ],
   "metadata": {
    "collapsed": false
   }
  },
  {
   "cell_type": "code",
   "execution_count": 127,
   "outputs": [
    {
     "name": "stdout",
     "output_type": "stream",
     "text": [
      "mathew_coef:  0.07271525467005983\n"
     ]
    },
    {
     "data": {
      "text/plain": "array([[66, 55],\n       [42, 47]], dtype=int64)"
     },
     "execution_count": 127,
     "metadata": {},
     "output_type": "execute_result"
    }
   ],
   "source": [
    "\n",
    "clf = RandomForestClassifier(criterion=\"entropy\", max_depth= 600, min_samples_leaf=5)\n",
    "clf.fit(X_train, y_train)\n",
    "predicted = clf.predict(X_test)\n",
    "\n",
    "\n",
    "print(\"mathew_coef: \", matthews_corrcoef(predicted,y_test))\n",
    "confusion_matrix(predicted,y_test)\n",
    "\n"
   ],
   "metadata": {
    "collapsed": false
   }
  }
 ],
 "metadata": {
  "kernelspec": {
   "display_name": "Python 3",
   "language": "python",
   "name": "python3"
  },
  "language_info": {
   "codemirror_mode": {
    "name": "ipython",
    "version": 2
   },
   "file_extension": ".py",
   "mimetype": "text/x-python",
   "name": "python",
   "nbconvert_exporter": "python",
   "pygments_lexer": "ipython2",
   "version": "2.7.6"
  }
 },
 "nbformat": 4,
 "nbformat_minor": 0
}
