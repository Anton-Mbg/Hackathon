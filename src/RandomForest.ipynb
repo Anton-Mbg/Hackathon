{
 "cells": [
  {
   "cell_type": "code",
   "execution_count": 27,
   "metadata": {
    "tags": []
   },
   "outputs": [],
   "source": [
    "#data preparation from keras skript\n",
    "\n",
    "import pandas as pd\n",
    "\n",
    "import numpy as np\n",
    "\n",
    "from sklearn.ensemble import RandomForestClassifier\n",
    "\n",
    "\n",
    "from sklearn.model_selection import train_test_split\n",
    "\n",
    "from sklearn.metrics import matthews_corrcoef\n",
    "from sklearn.metrics import confusion_matrix\n",
    "\n",
    "\n",
    "import math\n",
    "from sklearn.decomposition import PCA\n",
    "\n",
    "#pca = PCA(n_components=5)\n",
    "\n",
    "path=\"unionMatrix_Reduced_Normalized_withoutSampleID_class.csv\"\n",
    "df = pd.read_csv(path)\n",
    "labels = df[\"label\"].values\n",
    "#df = df.drop([\"sample_ID\",\"label\"],axis=1).values\n",
    "\n",
    "\n",
    "#df = (df-df.mean())/df.std()\n",
    "\n",
    "#for i in range(len(df[0])):\n",
    "#   df[i] = (df[i] - df[i].mean())/df[i].std()\n",
    "#   if math.isnan(df[i][0]):\n",
    "#      df[i] = np.zeros(len(df[i]))\n",
    "\n",
    "#pca.fit(df)\n",
    "#df = pca.transform(df)\n",
    "\n",
    "\n",
    "X_train, X_test, y_train, y_test = train_test_split(df,labels, test_size=0.2)\n"
   ]
  },
  {
   "cell_type": "code",
   "execution_count": 28,
   "metadata": {
    "collapsed": false,
    "jupyter": {
     "outputs_hidden": false
    }
   },
   "outputs": [
    {
     "name": "stdout",
     "output_type": "stream",
     "text": [
      "mathew_coef:  0.9552077409591728\n"
     ]
    },
    {
     "data": {
      "text/plain": [
       "array([[115,   0,   0,   0,   0],\n",
       "       [  0, 106,   1,   2,   3],\n",
       "       [  0,   0,  18,   0,   1],\n",
       "       [  0,   0,   0,   7,   0],\n",
       "       [  0,   0,   0,   0,   1]], dtype=int64)"
      ]
     },
     "execution_count": 28,
     "metadata": {},
     "output_type": "execute_result"
    }
   ],
   "source": [
    "\n",
    "clf = RandomForestClassifier(criterion=\"gini\", max_depth= 600, min_samples_leaf=5)\n",
    "clf.fit(X_train, y_train)\n",
    "predicted = clf.predict(X_test)\n",
    "\n",
    "\n",
    "print(\"mathew_coef: \", matthews_corrcoef(predicted,y_test))\n",
    "confusion_matrix(predicted,y_test)\n",
    "\n"
   ]
  },
  {
   "cell_type": "code",
   "execution_count": 20,
   "metadata": {},
   "outputs": [
    {
     "data": {
      "text/plain": [
       "(1268, 11)"
      ]
     },
     "execution_count": 20,
     "metadata": {},
     "output_type": "execute_result"
    }
   ],
   "source": [
    "df.shape"
   ]
  },
  {
   "cell_type": "code",
   "execution_count": null,
   "metadata": {},
   "outputs": [],
   "source": []
  }
 ],
 "metadata": {
  "kernelspec": {
   "display_name": "Python 3 (ipykernel)",
   "language": "python",
   "name": "python3"
  },
  "language_info": {
   "codemirror_mode": {
    "name": "ipython",
    "version": 3
   },
   "file_extension": ".py",
   "mimetype": "text/x-python",
   "name": "python",
   "nbconvert_exporter": "python",
   "pygments_lexer": "ipython3",
   "version": "3.9.13"
  }
 },
 "nbformat": 4,
 "nbformat_minor": 4
}
