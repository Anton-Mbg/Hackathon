{
 "cells": [
  {
   "cell_type": "code",
   "execution_count": 10,
   "metadata": {
    "collapsed": true
   },
   "outputs": [
    {
     "name": "stdout",
     "output_type": "stream",
     "text": [
      "[18:47:37] WARNING: C:/buildkite-agent/builds/buildkite-windows-cpu-autoscaling-group-i-030221e36e1a46bfb-1/xgboost/xgboost-ci-windows/src/learner.cc:767: \n",
      "Parameters: { \"n_estimators\" } are not used.\n",
      "\n",
      "Accuracy: 0.5046439628482973\n",
      "MCC 0.09272728314671953\n"
     ]
    }
   ],
   "source": [
    "from sklearn.metrics import accuracy_score\n",
    "import xgboost as xgb\n",
    "import numpy as np\n",
    "from sklearn.model_selection import train_test_split\n",
    "import pandas as pd\n",
    "from sklearn.metrics import f1_score, matthews_corrcoef\n",
    "\n",
    "df = pd.read_csv(\"DataMatrices/class/unionMatrix_TreeBasedClassifier_Normalized_SMOTE_class.csv\")\n",
    "#df = pd.read_csv(\"DataMatrices/class/unionMatrix_TreeBasedFeatureSelection_Normalized_class.csv\")\n",
    "Y = np.array(df[[\"label\"]]).ravel()\n",
    "X = df.drop([\"label\"], axis = 1)\n",
    "#X = df.drop([\"sample_ID\", \"label\"], axis = 1)\n",
    "\n",
    "# Convert the dataframe to a DMatrix\n",
    "x_train, x_test, y_train, y_test = train_test_split(X, Y, test_size=0.25, random_state=0)\n",
    "\n",
    "dtrain = xgb.DMatrix(data=x_train, label=y_train)\n",
    "dtest = xgb.DMatrix(data=x_test, label=y_test)\n",
    "\n",
    "# Create the parameter dictionary for the XGBoost model\n",
    "#params = {'objective': 'reg:squarederror', 'eval_metric': 'rmse'}\n",
    "params = {\n",
    "    'objective': 'multi:softmax',\n",
    "    'max_depth': 4,\n",
    "    'learning_rate': 0.1,\n",
    "    'n_estimators': 100,\n",
    "    'seed': 123,\n",
    "    'num_class': 5 # specify the number of classes\n",
    "}\n",
    "\n",
    "# Create the XGBoost model\n",
    "model = xgb.train(params, dtrain)\n",
    "\n",
    "# Make predictions on the test set\n",
    "predictions = model.predict(dtest)\n",
    "\n",
    "# Evaluate the model\n",
    "accuracy = accuracy_score(y_test, predictions)\n",
    "print('Accuracy:', accuracy)\n",
    "\n",
    "print(\"MCC\", matthews_corrcoef(y_test,predictions))\n"
   ]
  },
  {
   "cell_type": "code",
   "execution_count": 16,
   "outputs": [],
   "source": [],
   "metadata": {
    "collapsed": false
   }
  }
 ],
 "metadata": {
  "kernelspec": {
   "display_name": "Python 3",
   "language": "python",
   "name": "python3"
  },
  "language_info": {
   "codemirror_mode": {
    "name": "ipython",
    "version": 2
   },
   "file_extension": ".py",
   "mimetype": "text/x-python",
   "name": "python",
   "nbconvert_exporter": "python",
   "pygments_lexer": "ipython2",
   "version": "2.7.6"
  }
 },
 "nbformat": 4,
 "nbformat_minor": 0
}
