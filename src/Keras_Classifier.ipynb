{
 "cells": [
  {
   "cell_type": "code",
   "execution_count": 7,
   "metadata": {
    "collapsed": true
   },
   "outputs": [],
   "source": [
    "# Import required libraries\n",
    "\n",
    "import pandas as pd\n",
    "\n",
    "import numpy as np\n",
    "\n",
    "import matplotlib.pyplot as plt\n",
    "\n",
    "import sklearn\n",
    "\n",
    "\n",
    "# Import necessary modules\n",
    "\n",
    "from sklearn.model_selection import train_test_split\n",
    "\n",
    "from sklearn.metrics import mean_squared_error\n",
    "\n",
    "from math import sqrt\n",
    "\n",
    "\n",
    "# Keras specific\n",
    "\n",
    "import keras\n",
    "\n",
    "from keras.models import Sequential\n",
    "\n",
    "from keras.layers import Dense\n",
    "\n",
    "#from keras.utils import to_categorical\n",
    "import math"
   ]
  },
  {
   "cell_type": "code",
   "execution_count": 180,
   "outputs": [],
   "source": [
    "import math\n",
    "from sklearn.decomposition import PCA\n",
    "\n",
    "pca = PCA(n_components=5)\n",
    "\n",
    "path=\"unionMatrix_Class.csv\"\n",
    "df = pd.read_csv(path)\n",
    "labels_tmp = df[\"label\"].values\n",
    "df = df.drop([\"sample_ID\",\"label\"],axis=1).values\n",
    "\n",
    "df = (df-df.mean())/df.std()\n",
    "\n",
    "for i in range(len(df[0])):\n",
    "    df[i] = (df[i] - df[i].mean())/df[i].std()\n",
    "    if math.isnan(df[i][0]):\n",
    "        df[i] = np.zeros(len(df[i]))\n",
    "labels = []\n",
    "pca.fit(df)\n",
    "df = pca.transform(df)\n",
    "for i in range(len(labels_tmp)):\n",
    "    tmp = np.zeros(5)\n",
    "    tmp[labels_tmp[i]] = 1\n",
    "    labels.append(tmp)\n",
    "labels = np.array(labels)"
   ],
   "metadata": {
    "collapsed": false
   }
  },
  {
   "cell_type": "code",
   "execution_count": 181,
   "outputs": [],
   "source": [
    "\n",
    "X_train, X_test, y_train, y_test = train_test_split(df, labels, test_size=0.30, random_state=40)\n"
   ],
   "metadata": {
    "collapsed": false
   }
  },
  {
   "cell_type": "code",
   "execution_count": 182,
   "outputs": [],
   "source": [
    "from keras.layers import Embedding\n",
    "model = Sequential()\n",
    "\n",
    "model.add(Dense(100, activation='relu', input_dim=5))\n",
    "\n",
    "\n",
    "\n",
    "\n",
    "model.add(Dense(75, activation='relu'))\n",
    "model.add(Dense(50, activation='relu'))\n",
    "\n",
    "\n",
    "model.add(Dense(10, activation='relu'))\n",
    "\n",
    "model.add(Dense(5, activation='softmax'))\n",
    "\n",
    "\n",
    "# Compile the model\n",
    "\n",
    "model.compile(optimizer='adam',\n",
    "\n",
    "              loss='categorical_crossentropy',\n",
    "\n",
    "              metrics=['accuracy'])"
   ],
   "metadata": {
    "collapsed": false
   }
  },
  {
   "cell_type": "code",
   "execution_count": 183,
   "outputs": [
    {
     "name": "stdout",
     "output_type": "stream",
     "text": [
      "Epoch 1/70\n",
      "29/29 [==============================] - 1s 3ms/step - loss: 1.5850 - accuracy: 0.3592\n",
      "Epoch 2/70\n",
      "29/29 [==============================] - 0s 2ms/step - loss: 1.4218 - accuracy: 0.4146\n",
      "Epoch 3/70\n",
      "29/29 [==============================] - 0s 2ms/step - loss: 1.1843 - accuracy: 0.4302\n",
      "Epoch 4/70\n",
      "29/29 [==============================] - 0s 3ms/step - loss: 1.1048 - accuracy: 0.4911\n",
      "Epoch 5/70\n",
      "29/29 [==============================] - 0s 2ms/step - loss: 1.0862 - accuracy: 0.5144\n",
      "Epoch 6/70\n",
      "29/29 [==============================] - 0s 3ms/step - loss: 1.0823 - accuracy: 0.4945\n",
      "Epoch 7/70\n",
      "29/29 [==============================] - 0s 3ms/step - loss: 1.0644 - accuracy: 0.5155\n",
      "Epoch 8/70\n",
      "29/29 [==============================] - 0s 5ms/step - loss: 1.0717 - accuracy: 0.4878\n",
      "Epoch 9/70\n",
      "29/29 [==============================] - 0s 4ms/step - loss: 1.0581 - accuracy: 0.5222\n",
      "Epoch 10/70\n",
      "29/29 [==============================] - 0s 4ms/step - loss: 1.0531 - accuracy: 0.5200\n",
      "Epoch 11/70\n",
      "29/29 [==============================] - 0s 3ms/step - loss: 1.0421 - accuracy: 0.5333\n",
      "Epoch 12/70\n",
      "29/29 [==============================] - 0s 2ms/step - loss: 1.0347 - accuracy: 0.5288\n",
      "Epoch 13/70\n",
      "29/29 [==============================] - 0s 2ms/step - loss: 1.0331 - accuracy: 0.5277\n",
      "Epoch 14/70\n",
      "29/29 [==============================] - 0s 2ms/step - loss: 1.0259 - accuracy: 0.5200\n",
      "Epoch 15/70\n",
      "29/29 [==============================] - 0s 2ms/step - loss: 1.0291 - accuracy: 0.5344\n",
      "Epoch 16/70\n",
      "29/29 [==============================] - 0s 3ms/step - loss: 1.0172 - accuracy: 0.5344\n",
      "Epoch 17/70\n",
      "29/29 [==============================] - 0s 3ms/step - loss: 1.0062 - accuracy: 0.5477\n",
      "Epoch 18/70\n",
      "29/29 [==============================] - 0s 4ms/step - loss: 1.0038 - accuracy: 0.5322\n",
      "Epoch 19/70\n",
      "29/29 [==============================] - 0s 4ms/step - loss: 1.0023 - accuracy: 0.5333\n",
      "Epoch 20/70\n",
      "29/29 [==============================] - 0s 3ms/step - loss: 0.9945 - accuracy: 0.5355\n",
      "Epoch 21/70\n",
      "29/29 [==============================] - 0s 4ms/step - loss: 0.9945 - accuracy: 0.5499\n",
      "Epoch 22/70\n",
      "29/29 [==============================] - 0s 4ms/step - loss: 0.9834 - accuracy: 0.5510\n",
      "Epoch 23/70\n",
      "29/29 [==============================] - 0s 2ms/step - loss: 0.9814 - accuracy: 0.5565\n",
      "Epoch 24/70\n",
      "29/29 [==============================] - 0s 2ms/step - loss: 0.9807 - accuracy: 0.5222\n",
      "Epoch 25/70\n",
      "29/29 [==============================] - 0s 2ms/step - loss: 0.9760 - accuracy: 0.5421\n",
      "Epoch 26/70\n",
      "29/29 [==============================] - 0s 2ms/step - loss: 0.9599 - accuracy: 0.5443\n",
      "Epoch 27/70\n",
      "29/29 [==============================] - 0s 2ms/step - loss: 0.9564 - accuracy: 0.5610\n",
      "Epoch 28/70\n",
      "29/29 [==============================] - 0s 2ms/step - loss: 0.9561 - accuracy: 0.5610\n",
      "Epoch 29/70\n",
      "29/29 [==============================] - 0s 3ms/step - loss: 0.9500 - accuracy: 0.5643\n",
      "Epoch 30/70\n",
      "29/29 [==============================] - 0s 3ms/step - loss: 0.9419 - accuracy: 0.5710\n",
      "Epoch 31/70\n",
      "29/29 [==============================] - 0s 3ms/step - loss: 0.9408 - accuracy: 0.5698\n",
      "Epoch 32/70\n",
      "29/29 [==============================] - 0s 3ms/step - loss: 0.9359 - accuracy: 0.5831\n",
      "Epoch 33/70\n",
      "29/29 [==============================] - 0s 3ms/step - loss: 0.9302 - accuracy: 0.5865\n",
      "Epoch 34/70\n",
      "29/29 [==============================] - 0s 5ms/step - loss: 0.9182 - accuracy: 0.5854\n",
      "Epoch 35/70\n",
      "29/29 [==============================] - 0s 3ms/step - loss: 0.9137 - accuracy: 0.5909\n",
      "Epoch 36/70\n",
      "29/29 [==============================] - 0s 2ms/step - loss: 0.9149 - accuracy: 0.5831\n",
      "Epoch 37/70\n",
      "29/29 [==============================] - 0s 2ms/step - loss: 0.9097 - accuracy: 0.5942\n",
      "Epoch 38/70\n",
      "29/29 [==============================] - 0s 2ms/step - loss: 0.9035 - accuracy: 0.6009\n",
      "Epoch 39/70\n",
      "29/29 [==============================] - 0s 2ms/step - loss: 0.9091 - accuracy: 0.5876\n",
      "Epoch 40/70\n",
      "29/29 [==============================] - 0s 2ms/step - loss: 0.8950 - accuracy: 0.6075\n",
      "Epoch 41/70\n",
      "29/29 [==============================] - 0s 2ms/step - loss: 0.9049 - accuracy: 0.6053\n",
      "Epoch 42/70\n",
      "29/29 [==============================] - 0s 2ms/step - loss: 0.8983 - accuracy: 0.5976\n",
      "Epoch 43/70\n",
      "29/29 [==============================] - 0s 2ms/step - loss: 0.8872 - accuracy: 0.6109\n",
      "Epoch 44/70\n",
      "29/29 [==============================] - 0s 2ms/step - loss: 0.8917 - accuracy: 0.5809\n",
      "Epoch 45/70\n",
      "29/29 [==============================] - 0s 2ms/step - loss: 0.8789 - accuracy: 0.6064\n",
      "Epoch 46/70\n",
      "29/29 [==============================] - 0s 2ms/step - loss: 0.8740 - accuracy: 0.6086\n",
      "Epoch 47/70\n",
      "29/29 [==============================] - 0s 2ms/step - loss: 0.8815 - accuracy: 0.5931\n",
      "Epoch 48/70\n",
      "29/29 [==============================] - 0s 2ms/step - loss: 0.8717 - accuracy: 0.6264\n",
      "Epoch 49/70\n",
      "29/29 [==============================] - 0s 2ms/step - loss: 0.8626 - accuracy: 0.6153\n",
      "Epoch 50/70\n",
      "29/29 [==============================] - 0s 2ms/step - loss: 0.8625 - accuracy: 0.6175\n",
      "Epoch 51/70\n",
      "29/29 [==============================] - 0s 2ms/step - loss: 0.8428 - accuracy: 0.6319\n",
      "Epoch 52/70\n",
      "29/29 [==============================] - 0s 2ms/step - loss: 0.8576 - accuracy: 0.6231\n",
      "Epoch 53/70\n",
      "29/29 [==============================] - 0s 2ms/step - loss: 0.8516 - accuracy: 0.6064\n",
      "Epoch 54/70\n",
      "29/29 [==============================] - 0s 2ms/step - loss: 0.8499 - accuracy: 0.6330\n",
      "Epoch 55/70\n",
      "29/29 [==============================] - 0s 3ms/step - loss: 0.8331 - accuracy: 0.6275\n",
      "Epoch 56/70\n",
      "29/29 [==============================] - 0s 3ms/step - loss: 0.8254 - accuracy: 0.6341\n",
      "Epoch 57/70\n",
      "29/29 [==============================] - 0s 3ms/step - loss: 0.8288 - accuracy: 0.6430\n",
      "Epoch 58/70\n",
      "29/29 [==============================] - 0s 5ms/step - loss: 0.8225 - accuracy: 0.6463\n",
      "Epoch 59/70\n",
      "29/29 [==============================] - 0s 4ms/step - loss: 0.8220 - accuracy: 0.6419\n",
      "Epoch 60/70\n",
      "29/29 [==============================] - 0s 4ms/step - loss: 0.8131 - accuracy: 0.6463\n",
      "Epoch 61/70\n",
      "29/29 [==============================] - 0s 5ms/step - loss: 0.8098 - accuracy: 0.6596\n",
      "Epoch 62/70\n",
      "29/29 [==============================] - 0s 2ms/step - loss: 0.7928 - accuracy: 0.6563\n",
      "Epoch 63/70\n",
      "29/29 [==============================] - 0s 2ms/step - loss: 0.7949 - accuracy: 0.6486\n",
      "Epoch 64/70\n",
      "29/29 [==============================] - 0s 2ms/step - loss: 0.7859 - accuracy: 0.6508\n",
      "Epoch 65/70\n",
      "29/29 [==============================] - 0s 2ms/step - loss: 0.7918 - accuracy: 0.6530\n",
      "Epoch 66/70\n",
      "29/29 [==============================] - 0s 3ms/step - loss: 0.7869 - accuracy: 0.6519\n",
      "Epoch 67/70\n",
      "29/29 [==============================] - 0s 3ms/step - loss: 0.7770 - accuracy: 0.6840\n",
      "Epoch 68/70\n",
      "29/29 [==============================] - 0s 2ms/step - loss: 0.7796 - accuracy: 0.6530\n",
      "Epoch 69/70\n",
      "29/29 [==============================] - 0s 2ms/step - loss: 0.7588 - accuracy: 0.6718\n",
      "Epoch 70/70\n",
      "29/29 [==============================] - 0s 2ms/step - loss: 0.7688 - accuracy: 0.6707\n"
     ]
    }
   ],
   "source": [
    "history = model.fit(X_train, y_train, epochs=70)"
   ],
   "metadata": {
    "collapsed": false
   }
  },
  {
   "cell_type": "code",
   "execution_count": 184,
   "outputs": [
    {
     "name": "stdout",
     "output_type": "stream",
     "text": [
      "29/29 [==============================] - 0s 2ms/step\n",
      "Accuracy on training data: 0.7039911150932312% \n",
      " Error on training data: 0.2960088849067688\n",
      "13/13 [==============================] - 0s 3ms/step\n",
      "Accuracy on test data: 0.45478036999702454% \n",
      " Error on test data: 0.5452196300029755\n",
      "mathew_coef:  0.044920783137925205\n",
      "mathew_coef:  0.47943886701741134\n"
     ]
    }
   ],
   "source": [
    "import sklearn.metrics\n",
    "pred_train= model.predict(X_train)\n",
    "scores = model.evaluate(X_train, y_train, verbose=0)\n",
    "\n",
    "print('Accuracy on training data: {}% \\n Error on training data: {}'.format(scores[1], 1 - scores[1]))\n",
    "\n",
    "\n",
    "\n",
    "pred_test= model.predict(X_test)\n",
    "\n",
    "scores2 = model.evaluate(X_test, y_test, verbose=0)\n",
    "\n",
    "print('Accuracy on test data: {}% \\n Error on test data: {}'.format(scores2[1], 1 - scores2[1]))\n",
    "\n",
    "pred_labeld = [np.argmax(x) for x in pred_test]\n",
    "y_labeld = [np.argmax(x) for x in y_test]\n",
    "pre_labeled = [np.argmax(x) for x in pred_train]\n",
    "yTest_labeled = [np.argmax(x) for x in y_train]\n",
    "print(\"mathew_coef: \", sklearn.metrics.matthews_corrcoef(y_labeld,pred_labeld))\n",
    "print(\"mathew_coef: \", sklearn.metrics.matthews_corrcoef(yTest_labeled,pre_labeled))\n"
   ],
   "metadata": {
    "collapsed": false
   }
  },
  {
   "cell_type": "code",
   "execution_count": 171,
   "outputs": [
    {
     "data": {
      "text/plain": "array([[108,  70,   6,   6,   0],\n       [ 71,  63,   4,   3,   3],\n       [ 18,  12,   0,   0,   0],\n       [  9,   4,   2,   0,   0],\n       [  3,   2,   1,   2,   0]], dtype=int64)"
     },
     "execution_count": 171,
     "metadata": {},
     "output_type": "execute_result"
    }
   ],
   "source": [
    "import sklearn.metrics\n",
    "sklearn.metrics.confusion_matrix(y_labeld,pred_labeld)"
   ],
   "metadata": {
    "collapsed": false
   }
  },
  {
   "cell_type": "code",
   "execution_count": 172,
   "outputs": [
    {
     "data": {
      "text/plain": "<Figure size 432x288 with 1 Axes>",
      "image/png": "[encoded data removed]"
     },
     "metadata": {
      "needs_background": "light"
     },
     "output_type": "display_data"
    }
   ],
   "source": [
    "wloss_values = history.history['loss']\n",
    "epochs = range(1, len(loss_values)+1)\n",
    "\n",
    "plt.plot(epochs, loss_values, label='Training Loss')\n",
    "plt.xlabel('Epochs')\n",
    "plt.ylabel('Loss')\n",
    "plt.legend()\n",
    "\n",
    "plt.show()"
   ],
   "metadata": {
    "collapsed": false
   }
  },
  {
   "cell_type": "code",
   "execution_count": 173,
   "outputs": [
    {
     "data": {
      "text/plain": "<Figure size 432x288 with 1 Axes>",
      "image/png": "[encoded data removed]"
     },
     "metadata": {
      "needs_background": "light"
     },
     "output_type": "display_data"
    }
   ],
   "source": [
    "acc_values = history.history['accuracy']\n",
    "epochs = range(1, len(acc_values)+1)\n",
    "\n",
    "plt.plot(epochs, acc_values, label='Training Accuracy')\n",
    "plt.xlabel('Epochs')\n",
    "plt.ylabel('Accuracy')\n",
    "plt.legend()\n",
    "\n",
    "plt.show()"
   ],
   "metadata": {
    "collapsed": false
   }
  },
  {
   "cell_type": "code",
   "execution_count": null,
   "outputs": [],
   "source": [],
   "metadata": {
    "collapsed": false
   }
  }
 ],
 "metadata": {
  "kernelspec": {
   "display_name": "Python 3",
   "language": "python",
   "name": "python3"
  },
  "language_info": {
   "codemirror_mode": {
    "name": "ipython",
    "version": 2
   },
   "file_extension": ".py",
   "mimetype": "text/x-python",
   "name": "python",
   "nbconvert_exporter": "python",
   "pygments_lexer": "ipython2",
   "version": "2.7.6"
  }
 },
 "nbformat": 4,
 "nbformat_minor": 0
}
