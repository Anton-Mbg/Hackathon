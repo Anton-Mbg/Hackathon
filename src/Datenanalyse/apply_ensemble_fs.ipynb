{
 "cells": [
  {
   "cell_type": "code",
   "execution_count": 122,
   "metadata": {
    "collapsed": true
   },
   "outputs": [],
   "source": [
    "import scipy.stats as stats\n",
    "def Wilcoxon(big_data,col_name):\n",
    "    col = big_data[col_name]\n",
    "    labels = big_data[big_data.columns.values[len(big_data.T) -1]]\n",
    "    ill = []\n",
    "    healthy = []\n",
    "    for i in range(len(col)):\n",
    "        if labels[i] == 1:\n",
    "            ill.append(col[i])\n",
    "        else:\n",
    "            healthy.append(col[i])\n",
    "    #ill = [col[i] for i in range(len(col)) if labels[i] == 1 ]\n",
    "    #healthy = [col[i] for i in range(len(col)) if labels[i] == 0 ]\n",
    "    U = 0\n",
    "    for i in ill:\n",
    "        for h in healthy:\n",
    "            if i < h:\n",
    "                U += 1\n",
    "            if i == h:\n",
    "                U += 0.5\n",
    "    n = len(ill)\n",
    "    m = len(healthy)\n",
    "    pvalue = stats.norm(loc = (n*m)/2 , scale = ((n*m)*(n+m+1)/12)**0.5).cdf(U)\n",
    "    if pvalue > 0.5:\n",
    "        pvalue = 1 - pvalue\n",
    "    return pvalue\n"
   ]
  },
  {
   "cell_type": "code",
   "execution_count": 123,
   "outputs": [],
   "source": [
    "def wilxocon_for_all(data):\n",
    "    col_names = data.columns.values[1:len(data.T) - 1]\n",
    "    dict = {}\n",
    "    for name in col_names:\n",
    "        dict[name] = Wilcoxon(data, name)\n",
    "    return dict"
   ],
   "metadata": {
    "collapsed": false
   }
  },
  {
   "cell_type": "code",
   "execution_count": 124,
   "outputs": [
    {
     "name": "stdout",
     "output_type": "stream",
     "text": [
      "39\n"
     ]
    },
    {
     "data": {
      "text/plain": "{'Bacteria;Fusobacteriota;Fusobacteriia': 0.19214932028462742,\n 'Bacteria;Actinobacteriota;Coriobacteriia': 0.145369621147747,\n 'Bacteria;Spirochaetota;Spirochaetia': 0.1362557091275892,\n 'Bacteria;Bdellovibrionota;Bdellovibrionia': 0.11895614149435778,\n 'Bacteria;Myxococcota;Polyangia': 0.09236543506422136,\n 'Bacteria;Proteobacteria;Gammaproteobacteria': 0.061124516742306505,\n 'Bacteria;Firmicutes;Clostridia': 0.05763440708503015,\n 'Bacteria;Actinobacteriota;Acidimicrobiia': 0.04703596019397739,\n 'Bacteria;Firmicutes;Bacilli': 0.04544420762275576,\n 'Bacteria;Patescibacteria;Saccharimonadia': 0.034814592683896056,\n 'Bacteria;Verrucomicrobiota;Lentisphaeria': 0.030903668884281577,\n 'Bacteria;Desulfobacterota;Desulfovibrionia': 0.022607294475454568,\n 'Bacteria;Actinobacteriota;Actinobacteria': 0.013278545569204004,\n 'Bacteria;Firmicutes;Limnochordia': 0.00684998763324958,\n 'Bacteria;Firmicutes;Incertae Sedis': 0.0051087154096839905,\n 'Bacteria;Abditibacteriota;Abditibacteria': 0.0,\n 'Bacteria;Desulfobacterota;Desulfuromonadia': 7.103437108834047e-05,\n 'Bacteria;Bdellovibrionota;Oligoflexia': 7.399997963343906e-05,\n 'Bacteria;Acidobacteriota;Blastocatellia': 0.0,\n 'Bacteria;Verrucomicrobiota;Verrucomicrobiae': 0.005888272400028637,\n 'Bacteria;Firmicutes;Negativicutes': 0.006035798584667902,\n 'Bacteria;Chloroflexi;Anaerolineae': 0.011628578090955579,\n 'Bacteria;Acidobacteriota;Aminicenantia': 0.0,\n 'Bacteria;Elusimicrobiota;Lineage IIa': 0.011628578090955582,\n 'Bacteria;Firmicutes;Moorellia': 0.011628578090955582,\n 'Bacteria;Myxococcota;bacteriap25': 0.011628578090955586,\n 'Bacteria;Nitrospirota;Nitrospiria': 0.011628578090955598,\n 'Bacteria;Dependentiae;Babeliae': 0.011628578090955606,\n 'Bacteria;Fibrobacterota;Fibrobacteria': 0.01284408533980985,\n 'Bacteria;Spirochaetota;Brachyspirae': 0.013187299202424178,\n 'Bacteria;Firmicutes;uncultured': 0.01481293056692512,\n 'Bacteria;Actinobacteriota;Thermoleophilia': 0.014940148016602926,\n 'Bacteria;Elusimicrobiota;Elusimicrobia': 0.015395284390772843,\n 'Bacteria;Synergistota;Synergistia': 0.016908899259995492,\n 'Bacteria;Campilobacterota;Campylobacteria': 0.023225174876162585,\n 'Bacteria;Cyanobacteria;Vampirivibrionia': 0.028538412032726307,\n 'Bacteria;Proteobacteria;Alphaproteobacteria': 0.04396230749236582,\n 'Bacteria;Bacteroidota;Bacteroidia': 0.07604195675096419}"
     },
     "execution_count": 124,
     "metadata": {},
     "output_type": "execute_result"
    }
   ],
   "source": [
    "import pandas as pd\n",
    "import numpy as np\n",
    "import math\n",
    "\n",
    "data = data = pd.read_csv(\"../../HackathonMicrobiomeData/CAD/ClassCAD_train.csv\")\n",
    "\n",
    "#AT THE MOMENT THE FIRST COLOUMN CONTAINS LETTER SO REMOVE IT\n",
    "#MAYBE THIS NEEDS TO BE CHANGED LATER\n",
    "\n",
    "#THE FUNCTION CALCULATES A VALUE BETWEEN [0,1] FOR EVERY INDEPENDANT VARIABLE Xi, THE VALUE OF THE DEPENDANT VARIABLE Y IS NOT IN THE OUTPUT\n",
    "#THE INDEPENDANT VARIABLE SHOULD ALWAYS BE IN THE LAST COLLUMN!!!!\n",
    "#FOR THE CALCULATION OF THE VALUE FOR EVERY VARIABLE Xi WHICH HAS A HIGH CORRELATION WITH ANOTHER VARIABLE Xj -\n",
    "#THE FORUMULAR IS |corXiY| - |corXiXj|/weight\n",
    "#SO MAKE SURE TO TAKE THE RIGHT WEIGHT\n",
    "\n",
    "def correlationPValues(data, weight):\n",
    "    idToName = {}\n",
    "\n",
    "    data = data.iloc[:,1:]\n",
    "    names = data.columns\n",
    "\n",
    "    for i in range(0,len(names) - 1):\n",
    "        idToName[i] = names[i]\n",
    "\n",
    "    corMatrix = data.corr()\n",
    "    corMatrix = corMatrix.values\n",
    "\n",
    "\n",
    "    for i in range(corMatrix.shape[0]):\n",
    "        for j in range(corMatrix.shape[1]):\n",
    "            if math.isnan(corMatrix[i][j]):\n",
    "                corMatrix[i][j] = 0\n",
    "\n",
    "    #get correlation from every independant variable with label\n",
    "    correlationValues = corMatrix[data.shape[1] - 1]\n",
    "    correlationWithLabel = corMatrix[data.shape[1] - 1]\n",
    "    print(len(correlationValues))\n",
    "    bestAttributes = []\n",
    "\n",
    "    #add index of label to eliminatedAttributes\n",
    "    eliminatedAttributes = [len(correlationValues)-1]\n",
    "\n",
    "    variableToPValue = {}\n",
    "    while(True):\n",
    "        #get the highest correlation\n",
    "        maxCor = -10\n",
    "        bestAttribute = 0\n",
    "        for i in range(0, len(correlationValues)):\n",
    "            if i not in bestAttributes and i not in eliminatedAttributes:\n",
    "                if correlationValues[i] > maxCor:\n",
    "                    maxCor = correlationValues[i]\n",
    "                    bestAttribute = i\n",
    "\n",
    "        variableToPValue[bestAttribute] = maxCor\n",
    "        #Add best index to best attributes\n",
    "        bestAttributes.append(bestAttribute)\n",
    "        #get correlation from every independant variable with best Attribute\n",
    "        correlationWithBestAttribute = corMatrix.T[bestAttribute]\n",
    "\n",
    "        #iterate through correlation and eliminate every variable with cor >= 0.7\n",
    "        count = 0\n",
    "        for i in range(0, len(correlationWithBestAttribute)):\n",
    "            if not(i in bestAttributes or i in eliminatedAttributes):\n",
    "                if correlationWithBestAttribute[i] >= 0.7:\n",
    "                    count = count + 1\n",
    "                    eliminatedAttributes.append(i)\n",
    "                    variableToPValue[i] = np.maximum(np.abs(correlationWithLabel[i]) - np.abs(correlationWithBestAttribute[i])/weight, 0)\n",
    "\n",
    "        if(len(correlationValues) + 1 == len(eliminatedAttributes) + len(bestAttributes)):\n",
    "            break;\n",
    "\n",
    "        #convert dictionary from id to name\n",
    "        newDictionary = {}\n",
    "        for i in variableToPValue.keys():\n",
    "            newDictionary[idToName[i]] = np.abs(variableToPValue[i])\n",
    "    return newDictionary\n",
    "correlationPValues(data, 1)\n"
   ],
   "metadata": {
    "collapsed": false
   }
  },
  {
   "cell_type": "code",
   "execution_count": 125,
   "outputs": [],
   "source": [
    "#Calculates the cols to be deleted from the combination of Median and Covarianz filter\n",
    "#please ensure to give two Dictionary with same size and no missing values...gaaarkein bock auf edge cases abfangen\n",
    "def Efs(FilterMedian,FilterCov):\n",
    "\n",
    "    #1. Calculate the importance values for the columns in Median\n",
    "\n",
    "    minP = min(FilterMedian.values())\n",
    "    medianImp = {}\n",
    "    for col in FilterMedian.keys():\n",
    "        impVal = 1 - FilterMedian[col] + minP\n",
    "        medianImp[col] = impVal\n",
    "\n",
    "\n",
    "    #2. Calculate the importance values for the columns in Cov\n",
    "\n",
    "    maxBetha = max(FilterCov.values())\n",
    "    covImp = {}\n",
    "\n",
    "    for col in FilterCov.keys():\n",
    "        impVal = FilterCov[col] / maxBetha\n",
    "        covImp[col] = impVal\n",
    "\n",
    "\n",
    "    print(\"Lengths CoV:\")\n",
    "    print( len(FilterCov.keys()))\n",
    "\n",
    "    print(\"Lengths Median:\")\n",
    "    print(len(FilterMedian.keys()))\n",
    "\n",
    "    #3. Combine the impVals\n",
    "    combinedImp = {}\n",
    "    for col in FilterMedian:\n",
    "        combinedImp[col] = FilterMedian[col] + FilterCov[col]\n",
    "\n",
    "    #4. Calculate the Cols to be deleted\n",
    "    toDelete = []\n",
    "    impMean = sum(combinedImp.values())/len(combinedImp)\n",
    "    for col in combinedImp:\n",
    "        if(combinedImp[col] <= impMean):\n",
    "            toDelete.append(col)\n",
    "\n",
    "    return toDelete\n",
    "\n"
   ],
   "metadata": {
    "collapsed": false
   }
  },
  {
   "cell_type": "code",
   "execution_count": 126,
   "outputs": [],
   "source": [
    "data = pd.read_csv(\"../../HackathonMicrobiomeData/CAD/ClassCAD_train.csv\")"
   ],
   "metadata": {
    "collapsed": false
   }
  },
  {
   "cell_type": "code",
   "execution_count": 127,
   "outputs": [
    {
     "name": "stdout",
     "output_type": "stream",
     "text": [
      "FilterMedian:\n",
      "{'Bacteria;Abditibacteriota;Abditibacteria': 0.5, 'Bacteria;Acidobacteriota;Aminicenantia': 0.48396197026510523, 'Bacteria;Acidobacteriota;Blastocatellia': 0.49197936432162925, 'Bacteria;Actinobacteriota;Acidimicrobiia': 0.46697491324353363, 'Bacteria;Actinobacteriota;Actinobacteria': 0.00021494457137925238, 'Bacteria;Actinobacteriota;Coriobacteriia': 0.0003205241752674295, 'Bacteria;Actinobacteriota;Thermoleophilia': 0.48396197026510523, 'Bacteria;Bacteroidota;Bacteroidia': 0.03825549965822661, 'Bacteria;Bdellovibrionota;Bdellovibrionia': 0.40486169635117697, 'Bacteria;Bdellovibrionota;Oligoflexia': 0.4521836486696038, 'Bacteria;Campilobacterota;Campylobacteria': 0.4634668231439911, 'Bacteria;Chloroflexi;Anaerolineae': 0.49197936432162925, 'Bacteria;Cyanobacteria;Vampirivibrionia': 0.1798193285069336, 'Bacteria;Dependentiae;Babeliae': 0.49197936432162925, 'Bacteria;Desulfobacterota;Desulfovibrionia': 0.2946252314252801, 'Bacteria;Desulfobacterota;Desulfuromonadia': 0.42897144617318833, 'Bacteria;Elusimicrobiota;Elusimicrobia': 0.4759510555224006, 'Bacteria;Elusimicrobiota;Lineage IIa': 0.49197936432162925, 'Bacteria;Fibrobacterota;Fibrobacteria': 0.48396197026510523, 'Bacteria;Firmicutes;Bacilli': 0.09040225033968696, 'Bacteria;Firmicutes;Clostridia': 0.05637754151969318, 'Bacteria;Firmicutes;Incertae Sedis': 0.4166861234788134, 'Bacteria;Firmicutes;Limnochordia': 0.47516997075733436, 'Bacteria;Firmicutes;Moorellia': 0.49197936432162925, 'Bacteria;Firmicutes;Negativicutes': 0.19539447313983205, 'Bacteria;Firmicutes;uncultured': 0.40524183846550754, 'Bacteria;Fusobacteriota;Fusobacteriia': 0.039829846041915425, 'Bacteria;Myxococcota;Polyangia': 0.4786855603677478, 'Bacteria;Myxococcota;bacteriap25': 0.49197936432162925, 'Bacteria;Nitrospirota;Nitrospiria': 0.49197936432162925, 'Bacteria;Patescibacteria;Saccharimonadia': 0.4601562287071592, 'Bacteria;Proteobacteria;Alphaproteobacteria': 0.20710594220070577, 'Bacteria;Proteobacteria;Gammaproteobacteria': 0.3918041015886682, 'Bacteria;Spirochaetota;Brachyspirae': 0.4282014641863192, 'Bacteria;Spirochaetota;Spirochaetia': 0.45101846736353673, 'Bacteria;Synergistota;Synergistia': 0.48181193027251723, 'Bacteria;Verrucomicrobiota;Lentisphaeria': 0.41286299840550233, 'Bacteria;Verrucomicrobiota;Verrucomicrobiae': 0.3282370932648675}\n",
      " \n",
      "CorrelationFilter:\n",
      "39\n",
      "{'Bacteria;Fusobacteriota;Fusobacteriia': 0.19214932028462742, 'Bacteria;Actinobacteriota;Coriobacteriia': 0.145369621147747, 'Bacteria;Spirochaetota;Spirochaetia': 0.1362557091275892, 'Bacteria;Bdellovibrionota;Bdellovibrionia': 0.11895614149435778, 'Bacteria;Myxococcota;Polyangia': 0.09236543506422136, 'Bacteria;Proteobacteria;Gammaproteobacteria': 0.061124516742306505, 'Bacteria;Firmicutes;Clostridia': 0.05763440708503015, 'Bacteria;Actinobacteriota;Acidimicrobiia': 0.04703596019397739, 'Bacteria;Firmicutes;Bacilli': 0.04544420762275576, 'Bacteria;Patescibacteria;Saccharimonadia': 0.034814592683896056, 'Bacteria;Verrucomicrobiota;Lentisphaeria': 0.030903668884281577, 'Bacteria;Desulfobacterota;Desulfovibrionia': 0.022607294475454568, 'Bacteria;Actinobacteriota;Actinobacteria': 0.013278545569204004, 'Bacteria;Firmicutes;Limnochordia': 0.00684998763324958, 'Bacteria;Firmicutes;Incertae Sedis': 0.0051087154096839905, 'Bacteria;Abditibacteriota;Abditibacteria': 0.0, 'Bacteria;Desulfobacterota;Desulfuromonadia': 7.103437108834047e-05, 'Bacteria;Bdellovibrionota;Oligoflexia': 7.399997963343906e-05, 'Bacteria;Acidobacteriota;Blastocatellia': 0.0, 'Bacteria;Verrucomicrobiota;Verrucomicrobiae': 0.005888272400028637, 'Bacteria;Firmicutes;Negativicutes': 0.006035798584667902, 'Bacteria;Chloroflexi;Anaerolineae': 0.011628578090955579, 'Bacteria;Acidobacteriota;Aminicenantia': 0.0, 'Bacteria;Elusimicrobiota;Lineage IIa': 0.011628578090955582, 'Bacteria;Firmicutes;Moorellia': 0.011628578090955582, 'Bacteria;Myxococcota;bacteriap25': 0.011628578090955586, 'Bacteria;Nitrospirota;Nitrospiria': 0.011628578090955598, 'Bacteria;Dependentiae;Babeliae': 0.011628578090955606, 'Bacteria;Fibrobacterota;Fibrobacteria': 0.01284408533980985, 'Bacteria;Spirochaetota;Brachyspirae': 0.013187299202424178, 'Bacteria;Firmicutes;uncultured': 0.01481293056692512, 'Bacteria;Actinobacteriota;Thermoleophilia': 0.014940148016602926, 'Bacteria;Elusimicrobiota;Elusimicrobia': 0.015395284390772843, 'Bacteria;Synergistota;Synergistia': 0.016908899259995492, 'Bacteria;Campilobacterota;Campylobacteria': 0.023225174876162585, 'Bacteria;Cyanobacteria;Vampirivibrionia': 0.028538412032726307, 'Bacteria;Proteobacteria;Alphaproteobacteria': 0.04396230749236582, 'Bacteria;Bacteroidota;Bacteroidia': 0.07604195675096419}\n",
      "Lengths CoV:\n",
      "38\n",
      "Lengths Median:\n",
      "38\n"
     ]
    },
    {
     "data": {
      "text/plain": "['Bacteria;Actinobacteriota;Actinobacteria',\n 'Bacteria;Actinobacteriota;Coriobacteriia',\n 'Bacteria;Bacteroidota;Bacteroidia',\n 'Bacteria;Cyanobacteria;Vampirivibrionia',\n 'Bacteria;Desulfobacterota;Desulfovibrionia',\n 'Bacteria;Firmicutes;Bacilli',\n 'Bacteria;Firmicutes;Clostridia',\n 'Bacteria;Firmicutes;Negativicutes',\n 'Bacteria;Fusobacteriota;Fusobacteriia',\n 'Bacteria;Proteobacteria;Alphaproteobacteria',\n 'Bacteria;Verrucomicrobiota;Verrucomicrobiae']"
     },
     "execution_count": 127,
     "metadata": {},
     "output_type": "execute_result"
    }
   ],
   "source": [
    "\n",
    "\n",
    "\n",
    "filterMedian = wilxocon_for_all(data)\n",
    "print(\"FilterMedian:\")\n",
    "print(filterMedian)\n",
    "print(\" \")\n",
    "print(\"CorrelationFilter:\")\n",
    "filterCov = correlationPValues(data, 3)\n",
    "print(filterCov)\n",
    "\n",
    "\n",
    "Efs(filterMedian,filterCov)"
   ],
   "metadata": {
    "collapsed": false
   }
  },
  {
   "cell_type": "code",
   "execution_count": 127,
   "outputs": [],
   "source": [],
   "metadata": {
    "collapsed": false
   }
  }
 ],
 "metadata": {
  "kernelspec": {
   "display_name": "Python 3",
   "language": "python",
   "name": "python3"
  },
  "language_info": {
   "codemirror_mode": {
    "name": "ipython",
    "version": 2
   },
   "file_extension": ".py",
   "mimetype": "text/x-python",
   "name": "python",
   "nbconvert_exporter": "python",
   "pygments_lexer": "ipython2",
   "version": "2.7.6"
  }
 },
 "nbformat": 4,
 "nbformat_minor": 0
}
