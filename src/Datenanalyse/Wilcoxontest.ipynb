{
 "cells": [
  {
   "cell_type": "code",
   "execution_count": 7,
   "metadata": {
    "collapsed": true
   },
   "outputs": [],
   "source": [
    "import pandas as pd\n",
    "#path = \"../HackathonMicrobiomeData/CAD/ClassCAD_train.csv\"\n",
    "#data = pd.read_csv(path)"
   ]
  },
  {
   "cell_type": "code",
   "execution_count": 8,
   "outputs": [],
   "source": [
    "import scipy.stats as stats\n",
    "def Wilcoxon(big_data,col_name):\n",
    "    col = big_data[col_name]\n",
    "    labels = big_data[big_data.columns.values[len(big_data.T) -1]]\n",
    "    ill = []\n",
    "    healthy = []\n",
    "    for i in range(len(col)):\n",
    "        if labels[i] == 1:\n",
    "            ill.append(col[i])\n",
    "        else:\n",
    "            healthy.append(col[i])\n",
    "    #ill = [col[i] for i in range(len(col)) if labels[i] == 1 ]\n",
    "    #healthy = [col[i] for i in range(len(col)) if labels[i] == 0 ]\n",
    "    U = 0\n",
    "    for i in ill:\n",
    "        for h in healthy:\n",
    "            if i < h:\n",
    "                U += 1\n",
    "            if i == h:\n",
    "                U += 0.5\n",
    "    n = len(ill)\n",
    "    m = len(healthy)\n",
    "    pvalue = stats.norm(loc = (n*m)/2 , scale = ((n*m)*(n+m+1)/12)**0.5).cdf(U)\n",
    "    if pvalue > 0.5:\n",
    "        pvalue = 1 - pvalue\n",
    "    return pvalue\n"
   ],
   "metadata": {
    "collapsed": false
   }
  },
  {
   "cell_type": "code",
   "execution_count": 9,
   "outputs": [],
   "source": [
    "def wilxocon_for_all(data):\n",
    "    col_names = data.columns.values[1:len(data.T)-1]\n",
    "    dict = {}\n",
    "    for name in col_names:\n",
    "        dict[name] = Wilcoxon(data, name)\n",
    "    return dict"
   ],
   "metadata": {
    "collapsed": false
   }
  },
  {
   "cell_type": "code",
   "execution_count": 10,
   "outputs": [],
   "source": [
    "#wilxocon_for_all(data)"
   ],
   "metadata": {
    "collapsed": false
   }
  },
  {
   "cell_type": "code",
   "execution_count": 10,
   "outputs": [],
   "source": [],
   "metadata": {
    "collapsed": false
   }
  }
 ],
 "metadata": {
  "kernelspec": {
   "display_name": "Python 3",
   "language": "python",
   "name": "python3"
  },
  "language_info": {
   "codemirror_mode": {
    "name": "ipython",
    "version": 2
   },
   "file_extension": ".py",
   "mimetype": "text/x-python",
   "name": "python",
   "nbconvert_exporter": "python",
   "pygments_lexer": "ipython2",
   "version": "2.7.6"
  }
 },
 "nbformat": 4,
 "nbformat_minor": 0
}
