{
 "cells": [
  {
   "cell_type": "code",
   "execution_count": 6,
   "outputs": [],
   "source": [
    "#Calculates the cols to be deleted from the combination of Median and Covarianz filter\n",
    "#please ensure to give two Dictionary with same size and no missing values...gaaarkein bock auf edge cases abfangen\n",
    "def Efs(FilterMedian,FilterCov):\n",
    "\n",
    "    #1. Calculate the importance values for the columns in Median\n",
    "\n",
    "    minP = min(FilterMedian.values())\n",
    "    medianImp = {}\n",
    "    for col in FilterMedian.keys():\n",
    "        impVal = 1 - FilterMedian[col] + minP\n",
    "        medianImp[col] = impVal\n",
    "\n",
    "\n",
    "    #2. Calculate the importance values for the columns in Cov\n",
    "\n",
    "    maxBetha = max(FilterCov.values())\n",
    "    covImp = {}\n",
    "    for col in FilterCov.keys():\n",
    "        impVal = FilterCov[col] / maxBetha\n",
    "        covImp[col] = impVal\n",
    "\n",
    "\n",
    "    #3. Combine the impVals\n",
    "    combinedImp = {}\n",
    "    for col in FilterMedian:\n",
    "        combinedImp[col] = FilterMedian[col] + FilterCov[col]\n",
    "\n",
    "    #4. Calculate the Cols to be deleted\n",
    "    toDelete = []\n",
    "    impMean = sum(combinedImp.values())/len(combinedImp)\n",
    "    for col in combinedImp:\n",
    "        if(combinedImp[col] <= impMean):\n",
    "            toDelete.append(col)\n",
    "\n",
    "    return toDelete\n",
    "\n",
    "\n",
    "\n",
    "\n",
    "\n"
   ],
   "metadata": {
    "collapsed": false
   }
  },
  {
   "cell_type": "code",
   "execution_count": 7,
   "outputs": [
    {
     "name": "stdout",
     "output_type": "stream",
     "text": [
      "['B', 'D']\n"
     ]
    }
   ],
   "source": [
    "testMedian = {\n",
    "    \"A\" : 0.7,\n",
    "    \"B\" : 0.10,\n",
    "    \"C\" : 0.45,\n",
    "    \"D\" : 0.23,\n",
    "    \"E\" : 0.77\n",
    "    }\n",
    "testCov = {\n",
    "    \"A\" : 0.2,\n",
    "    \"B\" : 0.4,\n",
    "    \"C\" : 0.9,\n",
    "    \"D\" : 0.01,\n",
    "    \"E\" : 0.001,\n",
    "    }\n",
    "print(Efs(testMedian,testCov))"
   ],
   "metadata": {
    "collapsed": false
   }
  },
  {
   "cell_type": "code",
   "execution_count": null,
   "outputs": [],
   "source": [],
   "metadata": {
    "collapsed": false
   }
  }
 ],
 "metadata": {
  "kernelspec": {
   "display_name": "Python 3",
   "language": "python",
   "name": "python3"
  },
  "language_info": {
   "codemirror_mode": {
    "name": "ipython",
    "version": 2
   },
   "file_extension": ".py",
   "mimetype": "text/x-python",
   "name": "python",
   "nbconvert_exporter": "python",
   "pygments_lexer": "ipython2",
   "version": "2.7.6"
  }
 },
 "nbformat": 4,
 "nbformat_minor": 0
}
