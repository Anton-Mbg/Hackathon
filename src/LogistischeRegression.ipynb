{
 "cells": [
  {
   "cell_type": "code",
   "execution_count": 399,
   "metadata": {
    "collapsed": true
   },
   "outputs": [],
   "source": [
    "from sklearn.preprocessing import MinMaxScaler\n",
    "from sklearn.linear_model import LogisticRegression\n",
    "import pandas as pd\n",
    "import numpy as np\n",
    "from sklearn.metrics import matthews_corrcoef"
   ]
  },
  {
   "cell_type": "code",
   "execution_count": 400,
   "outputs": [],
   "source": [
    "def init_logistic_regression(x, y):\n",
    "    return LogisticRegression(max_iter=1000000).fit(x, y)"
   ],
   "metadata": {
    "collapsed": false
   }
  },
  {
   "cell_type": "code",
   "execution_count": 401,
   "outputs": [],
   "source": [
    "classCAD = pd.read_csv(\"./unionMatrix_Class.csv\")\n",
    "Y = np.array(classCAD[[\"label\"]]).ravel()\n",
    "X = classCAD.drop([\"label\", \"sample_ID\"], axis = 1)\n",
    "X = (X - X.mean()) / X.std()\n",
    "#scaler = MinMaxScaler()\n",
    "#X = scaler.fit_transform(X)"
   ],
   "metadata": {
    "collapsed": false
   }
  },
  {
   "cell_type": "code",
   "execution_count": 402,
   "outputs": [],
   "source": [
    "from sklearn.model_selection import train_test_split\n",
    "x_train, x_test, y_train, y_test = train_test_split(X, Y, test_size=0.25)"
   ],
   "metadata": {
    "collapsed": false
   }
  },
  {
   "cell_type": "code",
   "execution_count": 403,
   "outputs": [],
   "source": [
    "regression = init_logistic_regression(x_train, y_train)"
   ],
   "metadata": {
    "collapsed": false
   }
  },
  {
   "cell_type": "code",
   "execution_count": 404,
   "outputs": [
    {
     "data": {
      "text/plain": "0.5015479876160991"
     },
     "execution_count": 404,
     "metadata": {},
     "output_type": "execute_result"
    }
   ],
   "source": [
    "regression.score(x_test, y_test)"
   ],
   "metadata": {
    "collapsed": false
   }
  },
  {
   "cell_type": "code",
   "execution_count": 405,
   "outputs": [
    {
     "data": {
      "text/plain": "0.08459943768186177"
     },
     "execution_count": 405,
     "metadata": {},
     "output_type": "execute_result"
    }
   ],
   "source": [
    "matthews_corrcoef(regression.predict(x_test), y_test)"
   ],
   "metadata": {
    "collapsed": false
   }
  },
  {
   "cell_type": "code",
   "execution_count": 406,
   "outputs": [],
   "source": [
    "import matplotlib.pyplot as plt"
   ],
   "metadata": {
    "collapsed": false
   }
  },
  {
   "cell_type": "code",
   "execution_count": 407,
   "outputs": [
    {
     "data": {
      "text/plain": "<matplotlib.collections.PathCollection at 0x1b5af47abb0>"
     },
     "execution_count": 407,
     "metadata": {},
     "output_type": "execute_result"
    },
    {
     "data": {
      "text/plain": "<Figure size 432x288 with 1 Axes>",
      "image/png": "[encoded data removed]"
     },
     "metadata": {
      "needs_background": "light"
     },
     "output_type": "display_data"
    }
   ],
   "source": [
    "plt.scatter(range(len(y_test)), regression.predict(x_test))"
   ],
   "metadata": {
    "collapsed": false
   }
  },
  {
   "cell_type": "code",
   "execution_count": 408,
   "outputs": [
    {
     "data": {
      "text/plain": "<matplotlib.collections.PathCollection at 0x1b5af489a90>"
     },
     "execution_count": 408,
     "metadata": {},
     "output_type": "execute_result"
    },
    {
     "data": {
      "text/plain": "<Figure size 432x288 with 1 Axes>",
      "image/png": "[encoded data removed]"
     },
     "metadata": {
      "needs_background": "light"
     },
     "output_type": "display_data"
    }
   ],
   "source": [
    "plt.scatter(range(len(y_test)), y_test)"
   ],
   "metadata": {
    "collapsed": false
   }
  },
  {
   "cell_type": "code",
   "execution_count": 409,
   "outputs": [
    {
     "data": {
      "text/plain": "array([[ 1.01068495e-01, -6.66792073e-02,  6.30027376e-02,\n         1.82314602e-01, -3.27314602e-01, -1.74397414e-01,\n         1.71681458e-01,  7.26496355e-02,  5.61134664e-02,\n         3.13168452e-01,  1.34709261e-01,  2.73808726e-01,\n         8.32290154e-02,  1.19367358e-01,  8.83669504e-02,\n         1.20935734e-01,  3.55434127e-01,  1.16973758e-01,\n         9.69597285e-02, -8.58404875e-03, -3.29800133e-02,\n        -1.04310018e-01, -5.23807745e-03,  1.22169636e-01,\n         1.91013393e-01,  1.18662299e-01, -1.29176572e-01,\n         2.54099033e-01,  1.53583784e-01,  1.11982431e-01,\n         1.33635399e-01,  1.87502301e-01, -1.97925297e-01,\n         7.52531392e-01,  8.26712118e-02,  1.04344889e-01,\n        -1.15840688e+00,  3.30694050e-01],\n       [-6.69033977e-02,  1.93932586e-01,  8.16496219e-02,\n         6.92987961e-02,  1.85918958e-02, -5.70831466e-02,\n        -2.12960542e-01,  1.22275213e-01, -1.51271933e-01,\n         4.60910111e-01,  2.31271526e-01, -2.54133436e-01,\n         1.41734595e-01, -5.00565369e-02,  4.50513318e-02,\n         1.17871623e-01, -2.37983052e-01, -5.28461184e-02,\n         1.92160362e-01, -1.59785988e-01, -7.82163626e-02,\n         3.66949623e-02,  2.02771867e-01,  4.96802376e-02,\n         2.34351519e-01,  1.86745902e-01, -6.61631568e-02,\n         3.41637226e-01, -7.17230908e-02, -8.32005460e-02,\n         1.85820559e-01,  2.06735336e-01,  3.46733973e-02,\n        -6.09684308e-01,  1.48763420e-01,  2.01039640e-01,\n         2.44444921e-01,  2.36909545e-01],\n       [-3.10180532e-02, -6.55016163e-02,  6.34247945e-02,\n        -2.43626593e-01,  1.83135535e-01, -1.44250591e-02,\n         1.87505849e-01,  6.35853898e-02, -7.85624862e-02,\n        -3.51505743e-01, -6.80157067e-02, -5.15453894e-03,\n        -1.43796667e-01, -2.82677526e-02,  1.06032101e-01,\n         1.32733141e-01, -7.51484890e-02, -2.32961354e-02,\n        -2.31892871e-01,  1.12297130e-01, -3.65465444e-02,\n        -3.56271494e-02, -4.43474725e-01, -3.62680340e-02,\n         1.10834172e-01, -4.53523512e-01, -2.49124517e-01,\n         2.76785505e-01, -4.24107065e-02, -2.86794236e-02,\n         1.78185391e-02,  1.50634290e-01, -2.28139198e-01,\n        -7.15723632e-02, -3.28041765e-01,  4.64426140e-02,\n        -1.60657316e-01,  1.42438487e-01],\n       [-1.64709992e-03, -3.16499505e-02, -1.19049237e-01,\n         2.08046709e-01,  4.41843726e-02, -6.92810364e-03,\n        -8.06924714e-02, -1.19909208e-01,  1.97184635e-01,\n        -2.03207037e-01, -4.23166801e-01, -5.83579927e-03,\n        -1.97337204e-01, -2.97846662e-02,  2.51108184e-01,\n        -2.12025513e-01, -3.66256955e-02, -3.25968019e-02,\n        -1.80504561e-01,  9.91032394e-02,  1.73347782e-01,\n        -5.60245820e-02,  5.86507714e-02, -1.16436789e-01,\n         1.87442898e-01, -3.60675137e-02,  1.76603636e-01,\n        -4.68733328e-01, -3.78090280e-02, -2.44999029e-04,\n         1.04960479e-01, -6.93721358e-01,  1.60334123e-01,\n        -5.17564649e-02,  2.80085793e-01, -2.02523466e-01,\n         7.67106162e-01,  1.98567528e-01],\n       [-1.49994371e-03, -3.01018118e-02, -8.90279165e-02,\n        -2.16033514e-01,  8.14027982e-02,  2.52833724e-01,\n        -6.55342931e-02, -1.38601031e-01, -2.34636819e-02,\n        -2.19365782e-01,  1.25201721e-01, -8.68495193e-03,\n         1.16170260e-01, -1.12584024e-02, -4.90558568e-01,\n        -1.59514985e-01, -5.67688967e-03, -8.23470214e-03,\n         1.23277341e-01, -4.30303324e-02, -2.56048620e-02,\n         1.59266787e-01,  1.87290163e-01, -1.91450507e-02,\n        -7.23641981e-01,  1.84182824e-01,  2.67860610e-01,\n        -4.03788435e-01, -1.64095841e-03,  1.42537307e-04,\n        -4.42234976e-01,  1.48849431e-01,  2.31056975e-01,\n        -1.95182559e-02, -1.83478661e-01, -1.49303677e-01,\n         3.07513111e-01, -9.08609609e-01]])"
     },
     "execution_count": 409,
     "metadata": {},
     "output_type": "execute_result"
    }
   ],
   "source": [
    "regression.coef_"
   ],
   "metadata": {
    "collapsed": false
   }
  },
  {
   "cell_type": "code",
   "execution_count": 410,
   "outputs": [
    {
     "data": {
      "text/plain": "array([ 1.89029947,  1.6860918 , -0.45092449, -1.18899145, -1.93647533])"
     },
     "execution_count": 410,
     "metadata": {},
     "output_type": "execute_result"
    }
   ],
   "source": [
    "regression.intercept_"
   ],
   "metadata": {
    "collapsed": false
   }
  },
  {
   "cell_type": "code",
   "execution_count": 411,
   "outputs": [
    {
     "data": {
      "text/plain": "array([0, 1, 2, 3, 4], dtype=int64)"
     },
     "execution_count": 411,
     "metadata": {},
     "output_type": "execute_result"
    }
   ],
   "source": [
    "regression.classes_"
   ],
   "metadata": {
    "collapsed": false
   }
  }
 ],
 "metadata": {
  "kernelspec": {
   "display_name": "Python 3",
   "language": "python",
   "name": "python3"
  },
  "language_info": {
   "codemirror_mode": {
    "name": "ipython",
    "version": 2
   },
   "file_extension": ".py",
   "mimetype": "text/x-python",
   "name": "python",
   "nbconvert_exporter": "python",
   "pygments_lexer": "ipython2",
   "version": "2.7.6"
  }
 },
 "nbformat": 4,
 "nbformat_minor": 0
}
