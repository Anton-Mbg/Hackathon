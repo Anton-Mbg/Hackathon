{
 "cells": [
  {
   "cell_type": "code",
   "execution_count": 33,
   "metadata": {
    "collapsed": true
   },
   "outputs": [],
   "source": [
    "import sklearn.metrics.pairwise\n",
    "from sklearn import svm\n",
    "import pandas as pd\n",
    "import numpy as np\n",
    "from sklearn.model_selection import train_test_split, StratifiedKFold\n",
    "from sklearn.metrics import matthews_corrcoef\n",
    "import math\n",
    "from sklearn.linear_model import SGDClassifier\n",
    "from sklearn.metrics import confusion_matrix\n",
    "from sklearn.kernel_approximation import Nystroem, RBFSampler\n",
    "import sklearn"
   ]
  },
  {
   "cell_type": "code",
   "execution_count": 43,
   "outputs": [],
   "source": [
    "data_in = pd.read_csv(\"./DataMatrices/class/unionMatrix_TreeBasedClassifier_Class.csv\")"
   ],
   "metadata": {
    "collapsed": false
   }
  },
  {
   "cell_type": "code",
   "execution_count": 44,
   "outputs": [],
   "source": [
    "def run_svm(dataframe):\n",
    "    data = dataframe.copy()\n",
    "    y = np.array(data[[\"label\"]]).ravel()\n",
    "    #y[y>0] = 1\n",
    "    x = data.drop([\"label\"], axis = 1)\n",
    "\n",
    "    kf = StratifiedKFold(n_splits=3)\n",
    "    for train_index, test_index in kf.split(x, y):\n",
    "        x_train, x_test = x.iloc[train_index], x.iloc[test_index]\n",
    "        y_train, y_test = y[train_index], y[test_index]\n",
    "\n",
    "        clf = svm.SVC(kernel='rbf', C=3)\n",
    "        #feature_map_nystroem = Nystroem(gamma=.2, n_components=10)\n",
    "        #x_train_transformed = feature_map_nystroem.fit_transform(x_train)\n",
    "        #x_test_transformed = feature_map_nystroem.fit_transform(x_test)\n",
    "        #x_train_transformed = RBFSampler(gamma=1, n_components=10).fit_transform(x_train)\n",
    "        clf.fit(x_train, y_train)\n",
    "\n",
    "        print(\"accuracy: \", clf.score(x_test, y_test))\n",
    "        print(\"matthews coef: \", matthews_corrcoef(y_test, clf.predict(x_test)))\n",
    "        print(confusion_matrix(y_test, clf.predict(x_test)))\n",
    "\n",
    "    #model = svm.SVC(decision_function_shape='ovr', kernel='rbf', gamma='auto')\n",
    "    #return matthews_corrcoef(y_test, model.predict(x_test)), confusion_matrix(y_test, model.predict(x_test))"
   ],
   "metadata": {
    "collapsed": false
   }
  },
  {
   "cell_type": "code",
   "execution_count": 45,
   "outputs": [
    {
     "name": "stdout",
     "output_type": "stream",
     "text": [
      "accuracy:  0.4732142857142857\n",
      "matthews coef:  0.0683832534218572\n",
      "[[114  35   0   0   0]\n",
      " [ 99  45   0   0   0]\n",
      " [ 17   6   0   0   0]\n",
      " [  9   3   0   0   0]\n",
      " [  4   4   0   0   0]]\n",
      "accuracy:  0.48656716417910445\n",
      "matthews coef:  0.10814933020649929\n",
      "[[131  17   0   0   0]\n",
      " [113  32   0   0   0]\n",
      " [ 15   8   0   0   0]\n",
      " [ 10   1   0   0   0]\n",
      " [  4   4   0   0   0]]\n",
      "accuracy:  0.4597014925373134\n",
      "matthews coef:  0.04176571571951059\n",
      "[[97 51  0  0  0]\n",
      " [87 57  0  0  0]\n",
      " [13 11  0  0  0]\n",
      " [ 5  6  0  0  0]\n",
      " [ 4  4  0  0  0]]\n"
     ]
    }
   ],
   "source": [
    "run_svm(data_in)"
   ],
   "metadata": {
    "collapsed": false
   }
  },
  {
   "cell_type": "code",
   "execution_count": 46,
   "outputs": [
    {
     "data": {
      "text/plain": "Index(['Bacteria;Bacteroidota;Bacteroidia',\n       'Bacteria;Bdellovibrionota;Bdellovibrionia',\n       'Bacteria;Campilobacterota;Campylobacteria',\n       'Bacteria;Dependentiae;Babeliae',\n       'Bacteria;Elusimicrobiota;Elusimicrobia',\n       'Bacteria;Fibrobacterota;Fibrobacteria',\n       'Bacteria;Firmicutes;uncultured',\n       'Bacteria;Fusobacteriota;Fusobacteriia',\n       'Bacteria;Myxococcota;Polyangia', 'Bacteria;Myxococcota;bacteriap25',\n       'Bacteria;Patescibacteria;Saccharimonadia',\n       'Bacteria;Spirochaetota;Brachyspirae',\n       'Bacteria;Acidobacteriota;Subgroup 19',\n       'Bacteria;Acidobacteriota;Vicinamibacteria',\n       'Bacteria;Chloroflexi;Chloroflexia',\n       'Bacteria;SAR324 clade(Marine group B);uncultured delta proteobacterium',\n       'label'],\n      dtype='object')"
     },
     "execution_count": 46,
     "metadata": {},
     "output_type": "execute_result"
    }
   ],
   "source": [
    "data_in.columns"
   ],
   "metadata": {
    "collapsed": false
   }
  },
  {
   "cell_type": "code",
   "execution_count": null,
   "outputs": [],
   "source": [],
   "metadata": {
    "collapsed": false,
    "pycharm": {
     "is_executing": true
    }
   }
  },
  {
   "cell_type": "code",
   "execution_count": 46,
   "outputs": [],
   "source": [],
   "metadata": {
    "collapsed": false
   }
  }
 ],
 "metadata": {
  "kernelspec": {
   "display_name": "Python 3",
   "language": "python",
   "name": "python3"
  },
  "language_info": {
   "codemirror_mode": {
    "name": "ipython",
    "version": 2
   },
   "file_extension": ".py",
   "mimetype": "text/x-python",
   "name": "python",
   "nbconvert_exporter": "python",
   "pygments_lexer": "ipython2",
   "version": "2.7.6"
  }
 },
 "nbformat": 4,
 "nbformat_minor": 0
}
