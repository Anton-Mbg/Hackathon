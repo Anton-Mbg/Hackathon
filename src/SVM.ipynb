{
 "cells": [
  {
   "cell_type": "code",
   "execution_count": 87,
   "metadata": {
    "collapsed": true
   },
   "outputs": [],
   "source": [
    "from sklearn import svm\n",
    "import pandas as pd\n",
    "import numpy as np\n",
    "from sklearn.model_selection import train_test_split\n",
    "from sklearn.metrics import matthews_corrcoef\n",
    "import math\n",
    "from sklearn.metrics import confusion_matrix"
   ]
  },
  {
   "cell_type": "code",
   "execution_count": 88,
   "outputs": [],
   "source": [
    "data_in = pd.read_csv(\"./unionMatrix_Class.csv\")"
   ],
   "metadata": {
    "collapsed": false
   }
  },
  {
   "cell_type": "code",
   "execution_count": 89,
   "outputs": [],
   "source": [
    "def run_svm(dataframe, normalize = True):\n",
    "    data = dataframe.copy()\n",
    "    y = np.array(data[[\"label\"]]).ravel()\n",
    "    x = data.drop([\"label\", \"sample_ID\"], axis = 1)\n",
    "\n",
    "    if normalize:\n",
    "        x = (x - x.mean()) / x.std()\n",
    "        for col in x.columns:\n",
    "            if math.isnan(x[col][0]):\n",
    "                x[col] = np.zeros(len(x[col]))\n",
    "\n",
    "    x_train, x_test, y_train, y_test = train_test_split(x, y, test_size=0.25)\n",
    "\n",
    "    model = svm.SVC(decision_function_shape='ovr', kernel='rbf', gamma='auto')\n",
    "    model.fit(x, y)\n",
    "    return matthews_corrcoef(y_test, model.predict(x_test)), confusion_matrix(y_test, model.predict(x_test))"
   ],
   "metadata": {
    "collapsed": false
   }
  },
  {
   "cell_type": "code",
   "execution_count": 90,
   "outputs": [
    {
     "name": "stdout",
     "output_type": "stream",
     "text": [
      "(0.29022911420115516, array([[141,   6,   0,   0,   0],\n",
      "       [ 99,  41,   0,   0,   0],\n",
      "       [ 20,   0,   0,   0,   0],\n",
      "       [  7,   1,   0,   1,   0],\n",
      "       [  5,   2,   0,   0,   0]], dtype=int64))\n",
      "(0.251224574857266, array([[155,   5,   0,   0,   0],\n",
      "       [ 99,  30,   0,   0,   0],\n",
      "       [ 16,   1,   0,   0,   0],\n",
      "       [  5,   2,   0,   0,   0],\n",
      "       [  9,   1,   0,   0,   0]], dtype=int64))\n",
      "(0.21559003563557977, array([[140,   7,   0,   0,   0],\n",
      "       [100,  30,   0,   0,   0],\n",
      "       [ 25,   3,   0,   0,   0],\n",
      "       [  9,   2,   0,   1,   0],\n",
      "       [  5,   1,   0,   0,   0]], dtype=int64))\n",
      "(0.2266529135578078, array([[142,  15,   0,   0,   0],\n",
      "       [ 86,  41,   0,   0,   0],\n",
      "       [ 20,   3,   0,   0,   0],\n",
      "       [  7,   2,   0,   0,   0],\n",
      "       [  5,   2,   0,   0,   0]], dtype=int64))\n",
      "(0.24671987339378568, array([[147,   9,   0,   0,   0],\n",
      "       [ 95,  33,   0,   0,   0],\n",
      "       [ 19,   1,   0,   0,   0],\n",
      "       [  8,   0,   0,   2,   0],\n",
      "       [  8,   1,   0,   0,   0]], dtype=int64))\n",
      "(0.2568261958830543, array([[144,   8,   0,   0,   0],\n",
      "       [ 96,  34,   0,   0,   0],\n",
      "       [ 25,   1,   0,   0,   0],\n",
      "       [  8,   0,   0,   2,   0],\n",
      "       [  5,   0,   0,   0,   0]], dtype=int64))\n",
      "(0.22022437651148166, array([[141,  11,   0,   0,   0],\n",
      "       [ 95,  35,   0,   0,   0],\n",
      "       [ 20,   4,   0,   0,   0],\n",
      "       [  7,   0,   0,   1,   0],\n",
      "       [  8,   1,   0,   0,   0]], dtype=int64))\n",
      "(0.1637202042367698, array([[148,  11,   0,   0,   0],\n",
      "       [109,  27,   0,   0,   0],\n",
      "       [ 14,   0,   0,   0,   0],\n",
      "       [  7,   2,   0,   0,   0],\n",
      "       [  4,   1,   0,   0,   0]], dtype=int64))\n",
      "(0.2969556678092656, array([[147,   5,   0,   0,   0],\n",
      "       [ 94,  40,   0,   0,   0],\n",
      "       [ 19,   1,   0,   0,   0],\n",
      "       [  6,   2,   0,   0,   0],\n",
      "       [  8,   1,   0,   0,   0]], dtype=int64))\n",
      "(0.20412579138775536, array([[147,  13,   0,   0,   0],\n",
      "       [ 93,  34,   0,   0,   0],\n",
      "       [ 21,   1,   0,   0,   0],\n",
      "       [  3,   1,   0,   0,   0],\n",
      "       [  8,   2,   0,   0,   0]], dtype=int64))\n"
     ]
    }
   ],
   "source": [
    "for _ in range(10):\n",
    "\n",
    "    print(run_svm(data_in))"
   ],
   "metadata": {
    "collapsed": false
   }
  },
  {
   "cell_type": "code",
   "execution_count": 90,
   "outputs": [],
   "source": [],
   "metadata": {
    "collapsed": false
   }
  }
 ],
 "metadata": {
  "kernelspec": {
   "display_name": "Python 3",
   "language": "python",
   "name": "python3"
  },
  "language_info": {
   "codemirror_mode": {
    "name": "ipython",
    "version": 2
   },
   "file_extension": ".py",
   "mimetype": "text/x-python",
   "name": "python",
   "nbconvert_exporter": "python",
   "pygments_lexer": "ipython2",
   "version": "2.7.6"
  }
 },
 "nbformat": 4,
 "nbformat_minor": 0
}
