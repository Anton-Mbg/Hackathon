{
 "cells": [
  {
   "cell_type": "code",
   "execution_count": 10,
   "metadata": {
    "collapsed": true
   },
   "outputs": [
    {
     "data": {
      "text/plain": "40"
     },
     "execution_count": 10,
     "metadata": {},
     "output_type": "execute_result"
    }
   ],
   "source": [
    "import pandas as pd\n",
    "path = \"../HackathonMicrobiomeData/CAD/ClassCAD_train.csv\"\n",
    "data = pd.read_csv(path)"
   ]
  },
  {
   "cell_type": "code",
   "execution_count": 67,
   "outputs": [],
   "source": [
    "import scipy.stats as stats\n",
    "def Wilcoxon(big_data,col_name):\n",
    "    col = big_data[col_name]\n",
    "    labels = big_data[big_data.columns.values[len(big_data.T) -1]]\n",
    "    ill = []\n",
    "    healthy = []\n",
    "    for i in range(len(col)):\n",
    "        if labels[i] == 1:\n",
    "            ill.append(col[i])\n",
    "        else:\n",
    "            healthy.append(col[i])\n",
    "    #ill = [col[i] for i in range(len(col)) if labels[i] == 1 ]\n",
    "    #healthy = [col[i] for i in range(len(col)) if labels[i] == 0 ]\n",
    "    U = 0\n",
    "    for i in ill:\n",
    "        for h in healthy:\n",
    "            if i < h:\n",
    "                U += 1\n",
    "            if i == h:\n",
    "                U += 0.5\n",
    "    n = len(ill)\n",
    "    m = len(healthy)\n",
    "    pvalue = stats.norm(loc = (n*m)/2 , scale = ((n*m)*(n+m+1)/12)**0.5).cdf(U)\n",
    "    if pvalue > 0.5:\n",
    "        pvalue = 1 - pvalue\n",
    "    return pvalue\n"
   ],
   "metadata": {
    "collapsed": false,
    "pycharm": {
     "name": "#%%\n"
    }
   }
  },
  {
   "cell_type": "code",
   "execution_count": 72,
   "outputs": [],
   "source": [
    "def wilxocon_for_all(data):\n",
    "    col_names = data.columns.values[1:len(data.T)-1]\n",
    "    dict = {}\n",
    "    for name in col_names:\n",
    "        dict[name] = Wilcoxon(data, name)\n",
    "    return dict"
   ],
   "metadata": {
    "collapsed": false,
    "pycharm": {
     "name": "#%%\n"
    }
   }
  },
  {
   "cell_type": "code",
   "execution_count": 73,
   "outputs": [
    {
     "data": {
      "text/plain": "{'Bacteria;Abditibacteriota;Abditibacteria': 0.5,\n 'Bacteria;Acidobacteriota;Aminicenantia': 0.48396197026510523,\n 'Bacteria;Acidobacteriota;Blastocatellia': 0.49197936432162925,\n 'Bacteria;Actinobacteriota;Acidimicrobiia': 0.46697491324353363,\n 'Bacteria;Actinobacteriota;Actinobacteria': 0.00021494457137925238,\n 'Bacteria;Actinobacteriota;Coriobacteriia': 0.00032052417526742957,\n 'Bacteria;Actinobacteriota;Thermoleophilia': 0.48396197026510523,\n 'Bacteria;Bacteroidota;Bacteroidia': 0.03825549965822661,\n 'Bacteria;Bdellovibrionota;Bdellovibrionia': 0.40486169635117697,\n 'Bacteria;Bdellovibrionota;Oligoflexia': 0.4521836486696038,\n 'Bacteria;Campilobacterota;Campylobacteria': 0.4634668231439911,\n 'Bacteria;Chloroflexi;Anaerolineae': 0.49197936432162925,\n 'Bacteria;Cyanobacteria;Vampirivibrionia': 0.1798193285069336,\n 'Bacteria;Dependentiae;Babeliae': 0.49197936432162925,\n 'Bacteria;Desulfobacterota;Desulfovibrionia': 0.2946252314252801,\n 'Bacteria;Desulfobacterota;Desulfuromonadia': 0.42897144617318833,\n 'Bacteria;Elusimicrobiota;Elusimicrobia': 0.4759510555224006,\n 'Bacteria;Elusimicrobiota;Lineage IIa': 0.49197936432162925,\n 'Bacteria;Fibrobacterota;Fibrobacteria': 0.48396197026510523,\n 'Bacteria;Firmicutes;Bacilli': 0.09040225033968696,\n 'Bacteria;Firmicutes;Clostridia': 0.05637754151969318,\n 'Bacteria;Firmicutes;Incertae Sedis': 0.4166861234788134,\n 'Bacteria;Firmicutes;Limnochordia': 0.47516997075733436,\n 'Bacteria;Firmicutes;Moorellia': 0.49197936432162925,\n 'Bacteria;Firmicutes;Negativicutes': 0.19539447313983205,\n 'Bacteria;Firmicutes;uncultured': 0.40524183846550754,\n 'Bacteria;Fusobacteriota;Fusobacteriia': 0.039829846041915425,\n 'Bacteria;Myxococcota;Polyangia': 0.4786855603677478,\n 'Bacteria;Myxococcota;bacteriap25': 0.49197936432162925,\n 'Bacteria;Nitrospirota;Nitrospiria': 0.49197936432162925,\n 'Bacteria;Patescibacteria;Saccharimonadia': 0.4601562287071592,\n 'Bacteria;Proteobacteria;Alphaproteobacteria': 0.20710594220070577,\n 'Bacteria;Proteobacteria;Gammaproteobacteria': 0.3918041015886682,\n 'Bacteria;Spirochaetota;Brachyspirae': 0.4282014641863192,\n 'Bacteria;Spirochaetota;Spirochaetia': 0.45101846736353673,\n 'Bacteria;Synergistota;Synergistia': 0.48181193027251723,\n 'Bacteria;Verrucomicrobiota;Lentisphaeria': 0.41286299840550233,\n 'Bacteria;Verrucomicrobiota;Verrucomicrobiae': 0.3282370932648675}"
     },
     "execution_count": 73,
     "metadata": {},
     "output_type": "execute_result"
    }
   ],
   "source": [
    "wilxocon_for_all(data)"
   ],
   "metadata": {
    "collapsed": false,
    "pycharm": {
     "name": "#%%\n"
    }
   }
  }
 ],
 "metadata": {
  "kernelspec": {
   "display_name": "Python 3",
   "language": "python",
   "name": "python3"
  },
  "language_info": {
   "codemirror_mode": {
    "name": "ipython",
    "version": 2
   },
   "file_extension": ".py",
   "mimetype": "text/x-python",
   "name": "python",
   "nbconvert_exporter": "python",
   "pygments_lexer": "ipython2",
   "version": "2.7.6"
  }
 },
 "nbformat": 4,
 "nbformat_minor": 0
}