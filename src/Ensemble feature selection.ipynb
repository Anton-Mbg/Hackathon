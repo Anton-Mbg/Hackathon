{
 "cells": [
  {
   "cell_type": "code",
   "execution_count": 1,
   "outputs": [],
   "source": [
    "#Calculates the rows to be deleted from the combination of Median and Covarianz filter\n",
    "#please ensure to give two Dictionary with same size and no missing values...gaaarkein bock auf edge cases abfangen\n",
    "def Efs(FilterMedian,FilterCov, Data):\n",
    "\n",
    "    #1. Calculate the importance values for the columns in Median\n",
    "\n",
    "    minP = min(FilterMedian.values())\n",
    "    medianImp = []\n",
    "    for col in FilterMedian.keys():\n",
    "        impVal = 1 - FilterMedian[col] + minP\n",
    "        medianImp.append(col, impVal)\n",
    "\n",
    "\n",
    "    #2. Calculate the importance values for the columns in Cov\n",
    "\n",
    "    maxBetha = max(FilterCov.values())\n",
    "    covImp = []\n",
    "    for col in FilterCov.keys():\n",
    "        impVal = FilterCov[col] / maxBetha\n",
    "        covImp.append(col, impVal)\n",
    "\n",
    "\n",
    "    #3. Combine the impVals\n",
    "    combinedImp = []\n",
    "    for col in FilterMedian:\n",
    "        combinedImp.Append(col,FilterMedian[col] + FilterCov[col])\n",
    "\n",
    "    #4. Calculate the Cols to be deleted\n",
    "    toDelete = []\n",
    "    impMean = sum(combinedImp.values())/len(combinedImp)\n",
    "    for col in combinedImp:\n",
    "        if(combinedImp[col] <= impMean):\n",
    "            toDelete.append(col)\n",
    "\n",
    "    #5. Delete the Columns\n",
    "    for col in toDelete:\n",
    "        Data.drop( col , axis = 1)\n",
    "\n",
    "    return Data\n",
    "\n",
    "\n",
    "\n",
    "\n"
   ],
   "metadata": {
    "collapsed": false
   }
  },
  {
   "cell_type": "code",
   "execution_count": null,
   "outputs": [],
   "source": [],
   "metadata": {
    "collapsed": false
   }
  }
 ],
 "metadata": {
  "kernelspec": {
   "display_name": "Python 3",
   "language": "python",
   "name": "python3"
  },
  "language_info": {
   "codemirror_mode": {
    "name": "ipython",
    "version": 2
   },
   "file_extension": ".py",
   "mimetype": "text/x-python",
   "name": "python",
   "nbconvert_exporter": "python",
   "pygments_lexer": "ipython2",
   "version": "2.7.6"
  }
 },
 "nbformat": 4,
 "nbformat_minor": 0
}
