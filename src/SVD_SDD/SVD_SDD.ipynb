{
 "cells": [
  {
   "cell_type": "code",
   "execution_count": 51,
   "metadata": {
    "collapsed": true
   },
   "outputs": [],
   "source": [
    "import numpy as np\n",
    "\n",
    "#return the number k of the first k significant eigenvalues\n",
    "#W is the sorted vector of the eigenvalues\n",
    "def entropy(W):\n",
    "    F = np.ones(len(W))\n",
    "    for i,w in enumerate(W):\n",
    "        F[i] = (W[i]**2)/(sum(x*x for x in W))\n",
    "    E = -1/np.log(len(W)) * sum(f * np.log(f) for f in F)\n",
    "    f_sum = 0\n",
    "    for i,f in enumerate(F):\n",
    "        if f_sum > E:\n",
    "            return i\n",
    "        f_sum += f\n",
    "\n"
   ]
  },
  {
   "cell_type": "code",
   "execution_count": 52,
   "outputs": [],
   "source": [
    "#calcualates the distance between an approximation of x made by the rows in F and x\n",
    "def calculate_distance(F,x):\n",
    "    return F @ x"
   ],
   "metadata": {
    "collapsed": false
   }
  },
  {
   "cell_type": "code",
   "execution_count": 53,
   "outputs": [],
   "source": [
    "#predicts the labels of the samples in X to the Factormatrices in F\n",
    "def predict(F,X):\n",
    "    labels = []\n",
    "    for x in X:\n",
    "        min_dist = calculate_distance(F[0], x)\n",
    "        label = 0;\n",
    "        for i,f in enumerate(F):\n",
    "            if (calculate_distance(f,x) < min_dist):\n",
    "                min_dist = calculate_distance(f,x);\n",
    "                label = i;\n",
    "        labels.append(label)\n",
    "\n",
    "    return labels"
   ],
   "metadata": {
    "collapsed": false
   }
  },
  {
   "cell_type": "code",
   "execution_count": 54,
   "outputs": [],
   "source": [
    "# F - all the F matrices resulting from SVD\n",
    "# x - Samplevectors\n",
    "def mainFunction(F, X):\n",
    "    labels = predict(F,X)\n",
    "    return labels"
   ],
   "metadata": {
    "collapsed": false
   }
  },
  {
   "cell_type": "code",
   "execution_count": 88,
   "outputs": [],
   "source": [
    "#cleanedData - Matrix of cleaned Data per Desease\n",
    "\n",
    "def calcFs(cleanedData):\n",
    "    f_Matrices = []\n",
    "    for dataset in cleanedData:\n",
    "        c, w, f = np.linalg.svd(dataset, full_matrices=False)\n",
    "        k = entropy(w)\n",
    "        f= f[0:k,:] # need just the first k rows\n",
    "        f_Matrices.append(f)\n",
    "\n",
    "    return f_Matrices"
   ],
   "metadata": {
    "collapsed": false
   }
  },
  {
   "cell_type": "code",
   "execution_count": 89,
   "outputs": [
    {
     "data": {
      "text/plain": "     Bacteria;Firmicutes;Clostridia;Oscillospirales;Oscillospiraceae;UCG-005;uncultured bacterium  \\\n0                                                    0                                              \n1                                                    0                                              \n2                                                    0                                              \n3                                                    0                                              \n4                                                    0                                              \n..                                                 ...                                              \n554                                                  0                                              \n555                                                  0                                              \n556                                                  0                                              \n557                                                  0                                              \n558                                                  0                                              \n\n     Bacteria;Firmicutes;Clostridia;Lachnospirales;Lachnospiraceae;Blautia;uncultured bacterium  \\\n0                                                    0                                            \n1                                                    0                                            \n2                                                    0                                            \n3                                                    0                                            \n4                                                    0                                            \n..                                                 ...                                            \n554                                                  0                                            \n555                                                  0                                            \n556                                                  0                                            \n557                                                  0                                            \n558                                                  0                                            \n\n     Bacteria;Firmicutes;Clostridia;Peptococcales;Peptococcaceae;uncultured;uncultured organism  \\\n0                                                    0                                            \n1                                                    0                                            \n2                                                    0                                            \n3                                                    0                                            \n4                                                    0                                            \n..                                                 ...                                            \n554                                                  0                                            \n555                                                  0                                            \n556                                                  0                                            \n557                                                  0                                            \n558                                                  0                                            \n\n     Bacteria;Firmicutes;Clostridia;Lachnospirales;Lachnospiraceae;uncultured;uncultured bacterium  \\\n0                                                    0                                               \n1                                                    0                                               \n2                                                    0                                               \n3                                                    0                                               \n4                                                    0                                               \n..                                                 ...                                               \n554                                                  0                                               \n555                                                  0                                               \n556                                                  0                                               \n557                                                  0                                               \n558                                                  0                                               \n\n     Bacteria;Firmicutes;Clostridia;Oscillospirales;Oscillospiraceae;Colidextribacter;uncultured Flavonifractor sp.  \\\n0                                                    0                                                                \n1                                                    0                                                                \n2                                                    0                                                                \n3                                                    0                                                                \n4                                                    0                                                                \n..                                                 ...                                                                \n554                                                  0                                                                \n555                                                  0                                                                \n556                                                  0                                                                \n557                                                  0                                                                \n558                                                  2                                                                \n\n     Bacteria;Firmicutes;Clostridia;Oscillospirales;Oscillospiraceae;UCG-002;uncultured bacterium  \\\n0                                                    0                                              \n1                                                    0                                              \n2                                                    0                                              \n3                                                    0                                              \n4                                                    0                                              \n..                                                 ...                                              \n554                                                  0                                              \n555                                                  0                                              \n556                                                  0                                              \n557                                                  0                                              \n558                                                  0                                              \n\n     Bacteria;Firmicutes;Clostridia;Lachnospirales;Lachnospiraceae;uncultured;uncultured bacterium.1  \\\n0                                                    0                                                 \n1                                                    0                                                 \n2                                                    0                                                 \n3                                                    0                                                 \n4                                                    0                                                 \n..                                                 ...                                                 \n554                                                  0                                                 \n555                                                  0                                                 \n556                                                  0                                                 \n557                                                  0                                                 \n558                                                  0                                                 \n\n     Bacteria;Firmicutes;Clostridia;Oscillospirales;Oscillospiraceae;Colidextribacter;uncultured organism  \\\n0                                                    0                                                      \n1                                                    0                                                      \n2                                                    0                                                      \n3                                                    0                                                      \n4                                                    0                                                      \n..                                                 ...                                                      \n554                                                  0                                                      \n555                                                  0                                                      \n556                                                  0                                                      \n557                                                  0                                                      \n558                                                  0                                                      \n\n     Bacteria;Firmicutes;Clostridia;Lachnospirales;Lachnospiraceae;uncultured;uncultured organism  \\\n0                                                    0                                              \n1                                                    0                                              \n2                                                    0                                              \n3                                                    0                                              \n4                                                    0                                              \n..                                                 ...                                              \n554                                                  0                                              \n555                                                  2                                              \n556                                                  0                                              \n557                                                  0                                              \n558                                                  0                                              \n\n     Bacteria;Firmicutes;Clostridia;Lachnospirales;Lachnospiraceae;Frisingicoccus;uncultured bacterium  \\\n0                                                    0                                                   \n1                                                    0                                                   \n2                                                    0                                                   \n3                                                    0                                                   \n4                                                    0                                                   \n..                                                 ...                                                   \n554                                                  0                                                   \n555                                                  0                                                   \n556                                                  0                                                   \n557                                                  0                                                   \n558                                                  0                                                   \n\n     ...  \\\n0    ...   \n1    ...   \n2    ...   \n3    ...   \n4    ...   \n..   ...   \n554  ...   \n555  ...   \n556  ...   \n557  ...   \n558  ...   \n\n     Bacteria;Bacteroidota;Bacteroidia;Bacteroidales;Prevotellaceae;Prevotella;uncultured bacterium.373  \\\n0                                                    0                                                    \n1                                                    0                                                    \n2                                                    0                                                    \n3                                                    0                                                    \n4                                                    0                                                    \n..                                                 ...                                                    \n554                                                  0                                                    \n555                                                  0                                                    \n556                                                  0                                                    \n557                                                  3                                                    \n558                                                  0                                                    \n\n     Bacteria;Bacteroidota;Bacteroidia;Bacteroidales;Rikenellaceae;Rikenellaceae RC9 gut group;uncultured bacterium.122  \\\n0                                                    0                                                                    \n1                                                    0                                                                    \n2                                                    0                                                                    \n3                                                    0                                                                    \n4                                                    0                                                                    \n..                                                 ...                                                                    \n554                                                  0                                                                    \n555                                                  0                                                                    \n556                                                  0                                                                    \n557                                                  0                                                                    \n558                                                  0                                                                    \n\n     Bacteria;Bacteroidota;Bacteroidia;Bacteroidales;Rikenellaceae;Rikenellaceae RC9 gut group;uncultured bacterium.123  \\\n0                                                    0                                                                    \n1                                                    0                                                                    \n2                                                    0                                                                    \n3                                                    0                                                                    \n4                                                    0                                                                    \n..                                                 ...                                                                    \n554                                                  0                                                                    \n555                                                  0                                                                    \n556                                                  0                                                                    \n557                                                  0                                                                    \n558                                                  0                                                                    \n\n     Bacteria;Firmicutes;Clostridia;Clostridia UCG-014;uncultured bacterium.505  \\\n0                                                    0                            \n1                                                    0                            \n2                                                    0                            \n3                                                    0                            \n4                                                    0                            \n..                                                 ...                            \n554                                                  0                            \n555                                                  0                            \n556                                                  0                            \n557                                                  0                            \n558                                                  0                            \n\n     Bacteria;Firmicutes;Clostridia;Oscillospirales;Ruminococcaceae;Subdoligranulum;Subdoligranulum variabile.11  \\\n0                                                    0                                                             \n1                                                    0                                                             \n2                                                    0                                                             \n3                                                    0                                                             \n4                                                    0                                                             \n..                                                 ...                                                             \n554                                                  0                                                             \n555                                                  0                                                             \n556                                                  0                                                             \n557                                                  0                                                             \n558                                                  0                                                             \n\n     Bacteria;Firmicutes;Clostridia;Oscillospirales;Oscillospiraceae;UCG-005;uncultured bacterium.230  \\\n0                                                    0                                                  \n1                                                    0                                                  \n2                                                    0                                                  \n3                                                    0                                                  \n4                                                    0                                                  \n..                                                 ...                                                  \n554                                                  0                                                  \n555                                                  0                                                  \n556                                                  0                                                  \n557                                                  0                                                  \n558                                                  0                                                  \n\n     Bacteria;Firmicutes;Clostridia;Monoglobales;Monoglobaceae;Monoglobus;uncultured bacterium.204  \\\n0                                                    0                                               \n1                                                    0                                               \n2                                                    0                                               \n3                                                    0                                               \n4                                                    0                                               \n..                                                 ...                                               \n554                                                  0                                               \n555                                                  0                                               \n556                                                  0                                               \n557                                                  0                                               \n558                                                  0                                               \n\n     Bacteria;Proteobacteria;Gammaproteobacteria;Aeromonadales;Succinivibrionaceae;Succinivibrio;uncultured bacterium.64  \\\n0                                                    0                                                                     \n1                                                    0                                                                     \n2                                                    0                                                                     \n3                                                    0                                                                     \n4                                                    0                                                                     \n..                                                 ...                                                                     \n554                                                  0                                                                     \n555                                                  0                                                                     \n556                                                  0                                                                     \n557                                                  0                                                                     \n558                                                  0                                                                     \n\n     Bacteria;Proteobacteria;Gammaproteobacteria;Aeromonadales;Succinivibrionaceae;Succinivibrio;uncultured bacterium.65  \\\n0                                                    0                                                                     \n1                                                    0                                                                     \n2                                                    0                                                                     \n3                                                    0                                                                     \n4                                                    0                                                                     \n..                                                 ...                                                                     \n554                                                  0                                                                     \n555                                                  0                                                                     \n556                                                  0                                                                     \n557                                                  0                                                                     \n558                                                  0                                                                     \n\n     label  \n0        0  \n1        0  \n2        0  \n3        0  \n4        0  \n..     ...  \n554      0  \n555      0  \n556      0  \n557      0  \n558      0  \n\n[559 rows x 12295 columns]",
      "text/html": "<div>\n<style scoped>\n    .dataframe tbody tr th:only-of-type {\n        vertical-align: middle;\n    }\n\n    .dataframe tbody tr th {\n        vertical-align: top;\n    }\n\n    .dataframe thead th {\n        text-align: right;\n    }\n</style>\n<table border=\"1\" class=\"dataframe\">\n  <thead>\n    <tr style=\"text-align: right;\">\n      <th></th>\n      <th>Bacteria;Firmicutes;Clostridia;Oscillospirales;Oscillospiraceae;UCG-005;uncultured bacterium</th>\n      <th>Bacteria;Firmicutes;Clostridia;Lachnospirales;Lachnospiraceae;Blautia;uncultured bacterium</th>\n      <th>Bacteria;Firmicutes;Clostridia;Peptococcales;Peptococcaceae;uncultured;uncultured organism</th>\n      <th>Bacteria;Firmicutes;Clostridia;Lachnospirales;Lachnospiraceae;uncultured;uncultured bacterium</th>\n      <th>Bacteria;Firmicutes;Clostridia;Oscillospirales;Oscillospiraceae;Colidextribacter;uncultured Flavonifractor sp.</th>\n      <th>Bacteria;Firmicutes;Clostridia;Oscillospirales;Oscillospiraceae;UCG-002;uncultured bacterium</th>\n      <th>Bacteria;Firmicutes;Clostridia;Lachnospirales;Lachnospiraceae;uncultured;uncultured bacterium.1</th>\n      <th>Bacteria;Firmicutes;Clostridia;Oscillospirales;Oscillospiraceae;Colidextribacter;uncultured organism</th>\n      <th>Bacteria;Firmicutes;Clostridia;Lachnospirales;Lachnospiraceae;uncultured;uncultured organism</th>\n      <th>Bacteria;Firmicutes;Clostridia;Lachnospirales;Lachnospiraceae;Frisingicoccus;uncultured bacterium</th>\n      <th>...</th>\n      <th>Bacteria;Bacteroidota;Bacteroidia;Bacteroidales;Prevotellaceae;Prevotella;uncultured bacterium.373</th>\n      <th>Bacteria;Bacteroidota;Bacteroidia;Bacteroidales;Rikenellaceae;Rikenellaceae RC9 gut group;uncultured bacterium.122</th>\n      <th>Bacteria;Bacteroidota;Bacteroidia;Bacteroidales;Rikenellaceae;Rikenellaceae RC9 gut group;uncultured bacterium.123</th>\n      <th>Bacteria;Firmicutes;Clostridia;Clostridia UCG-014;uncultured bacterium.505</th>\n      <th>Bacteria;Firmicutes;Clostridia;Oscillospirales;Ruminococcaceae;Subdoligranulum;Subdoligranulum variabile.11</th>\n      <th>Bacteria;Firmicutes;Clostridia;Oscillospirales;Oscillospiraceae;UCG-005;uncultured bacterium.230</th>\n      <th>Bacteria;Firmicutes;Clostridia;Monoglobales;Monoglobaceae;Monoglobus;uncultured bacterium.204</th>\n      <th>Bacteria;Proteobacteria;Gammaproteobacteria;Aeromonadales;Succinivibrionaceae;Succinivibrio;uncultured bacterium.64</th>\n      <th>Bacteria;Proteobacteria;Gammaproteobacteria;Aeromonadales;Succinivibrionaceae;Succinivibrio;uncultured bacterium.65</th>\n      <th>label</th>\n    </tr>\n  </thead>\n  <tbody>\n    <tr>\n      <th>0</th>\n      <td>0</td>\n      <td>0</td>\n      <td>0</td>\n      <td>0</td>\n      <td>0</td>\n      <td>0</td>\n      <td>0</td>\n      <td>0</td>\n      <td>0</td>\n      <td>0</td>\n      <td>...</td>\n      <td>0</td>\n      <td>0</td>\n      <td>0</td>\n      <td>0</td>\n      <td>0</td>\n      <td>0</td>\n      <td>0</td>\n      <td>0</td>\n      <td>0</td>\n      <td>0</td>\n    </tr>\n    <tr>\n      <th>1</th>\n      <td>0</td>\n      <td>0</td>\n      <td>0</td>\n      <td>0</td>\n      <td>0</td>\n      <td>0</td>\n      <td>0</td>\n      <td>0</td>\n      <td>0</td>\n      <td>0</td>\n      <td>...</td>\n      <td>0</td>\n      <td>0</td>\n      <td>0</td>\n      <td>0</td>\n      <td>0</td>\n      <td>0</td>\n      <td>0</td>\n      <td>0</td>\n      <td>0</td>\n      <td>0</td>\n    </tr>\n    <tr>\n      <th>2</th>\n      <td>0</td>\n      <td>0</td>\n      <td>0</td>\n      <td>0</td>\n      <td>0</td>\n      <td>0</td>\n      <td>0</td>\n      <td>0</td>\n      <td>0</td>\n      <td>0</td>\n      <td>...</td>\n      <td>0</td>\n      <td>0</td>\n      <td>0</td>\n      <td>0</td>\n      <td>0</td>\n      <td>0</td>\n      <td>0</td>\n      <td>0</td>\n      <td>0</td>\n      <td>0</td>\n    </tr>\n    <tr>\n      <th>3</th>\n      <td>0</td>\n      <td>0</td>\n      <td>0</td>\n      <td>0</td>\n      <td>0</td>\n      <td>0</td>\n      <td>0</td>\n      <td>0</td>\n      <td>0</td>\n      <td>0</td>\n      <td>...</td>\n      <td>0</td>\n      <td>0</td>\n      <td>0</td>\n      <td>0</td>\n      <td>0</td>\n      <td>0</td>\n      <td>0</td>\n      <td>0</td>\n      <td>0</td>\n      <td>0</td>\n    </tr>\n    <tr>\n      <th>4</th>\n      <td>0</td>\n      <td>0</td>\n      <td>0</td>\n      <td>0</td>\n      <td>0</td>\n      <td>0</td>\n      <td>0</td>\n      <td>0</td>\n      <td>0</td>\n      <td>0</td>\n      <td>...</td>\n      <td>0</td>\n      <td>0</td>\n      <td>0</td>\n      <td>0</td>\n      <td>0</td>\n      <td>0</td>\n      <td>0</td>\n      <td>0</td>\n      <td>0</td>\n      <td>0</td>\n    </tr>\n    <tr>\n      <th>...</th>\n      <td>...</td>\n      <td>...</td>\n      <td>...</td>\n      <td>...</td>\n      <td>...</td>\n      <td>...</td>\n      <td>...</td>\n      <td>...</td>\n      <td>...</td>\n      <td>...</td>\n      <td>...</td>\n      <td>...</td>\n      <td>...</td>\n      <td>...</td>\n      <td>...</td>\n      <td>...</td>\n      <td>...</td>\n      <td>...</td>\n      <td>...</td>\n      <td>...</td>\n      <td>...</td>\n    </tr>\n    <tr>\n      <th>554</th>\n      <td>0</td>\n      <td>0</td>\n      <td>0</td>\n      <td>0</td>\n      <td>0</td>\n      <td>0</td>\n      <td>0</td>\n      <td>0</td>\n      <td>0</td>\n      <td>0</td>\n      <td>...</td>\n      <td>0</td>\n      <td>0</td>\n      <td>0</td>\n      <td>0</td>\n      <td>0</td>\n      <td>0</td>\n      <td>0</td>\n      <td>0</td>\n      <td>0</td>\n      <td>0</td>\n    </tr>\n    <tr>\n      <th>555</th>\n      <td>0</td>\n      <td>0</td>\n      <td>0</td>\n      <td>0</td>\n      <td>0</td>\n      <td>0</td>\n      <td>0</td>\n      <td>0</td>\n      <td>2</td>\n      <td>0</td>\n      <td>...</td>\n      <td>0</td>\n      <td>0</td>\n      <td>0</td>\n      <td>0</td>\n      <td>0</td>\n      <td>0</td>\n      <td>0</td>\n      <td>0</td>\n      <td>0</td>\n      <td>0</td>\n    </tr>\n    <tr>\n      <th>556</th>\n      <td>0</td>\n      <td>0</td>\n      <td>0</td>\n      <td>0</td>\n      <td>0</td>\n      <td>0</td>\n      <td>0</td>\n      <td>0</td>\n      <td>0</td>\n      <td>0</td>\n      <td>...</td>\n      <td>0</td>\n      <td>0</td>\n      <td>0</td>\n      <td>0</td>\n      <td>0</td>\n      <td>0</td>\n      <td>0</td>\n      <td>0</td>\n      <td>0</td>\n      <td>0</td>\n    </tr>\n    <tr>\n      <th>557</th>\n      <td>0</td>\n      <td>0</td>\n      <td>0</td>\n      <td>0</td>\n      <td>0</td>\n      <td>0</td>\n      <td>0</td>\n      <td>0</td>\n      <td>0</td>\n      <td>0</td>\n      <td>...</td>\n      <td>3</td>\n      <td>0</td>\n      <td>0</td>\n      <td>0</td>\n      <td>0</td>\n      <td>0</td>\n      <td>0</td>\n      <td>0</td>\n      <td>0</td>\n      <td>0</td>\n    </tr>\n    <tr>\n      <th>558</th>\n      <td>0</td>\n      <td>0</td>\n      <td>0</td>\n      <td>0</td>\n      <td>2</td>\n      <td>0</td>\n      <td>0</td>\n      <td>0</td>\n      <td>0</td>\n      <td>0</td>\n      <td>...</td>\n      <td>0</td>\n      <td>0</td>\n      <td>0</td>\n      <td>0</td>\n      <td>0</td>\n      <td>0</td>\n      <td>0</td>\n      <td>0</td>\n      <td>0</td>\n      <td>0</td>\n    </tr>\n  </tbody>\n</table>\n<p>559 rows × 12295 columns</p>\n</div>"
     },
     "execution_count": 89,
     "metadata": {},
     "output_type": "execute_result"
    }
   ],
   "source": [
    "import pandas as pd\n",
    "\n",
    "filename = \"../../HackathonMicrobiomeData/CAD/SpeciesCAD_train.csv\"\n",
    "data = pd.read_csv(filename)\n",
    "\n",
    "data = data.iloc[: , 1:]\n",
    "data\n",
    "\n",
    "data2 = pd.read_csv(\"../../HackathonMicrobiomeData/CKD/SpeciesCKD_train.csv\")\n",
    "data2 = data2.iloc[:,1:]\n",
    "data2"
   ],
   "metadata": {
    "collapsed": false
   }
  },
  {
   "cell_type": "code",
   "execution_count": 90,
   "outputs": [
    {
     "name": "stdout",
     "output_type": "stream",
     "text": [
      "13\n",
      "14\n"
     ]
    }
   ],
   "source": [
    "dataSets = [data,data2]\n",
    "Fs = calcFs(dataSets)"
   ],
   "metadata": {
    "collapsed": false
   }
  },
  {
   "cell_type": "code",
   "execution_count": 87,
   "outputs": [
    {
     "name": "stdout",
     "output_type": "stream",
     "text": [
      "(13, 12428)\n",
      "(14, 12295)\n"
     ]
    }
   ],
   "source": [
    "print(Fs[0].shape)\n",
    "print(Fs[1].shape)"
   ],
   "metadata": {
    "collapsed": false
   }
  },
  {
   "cell_type": "markdown",
   "source": [],
   "metadata": {
    "collapsed": false
   }
  }
 ],
 "metadata": {
  "kernelspec": {
   "display_name": "Python 3",
   "language": "python",
   "name": "python3"
  },
  "language_info": {
   "codemirror_mode": {
    "name": "ipython",
    "version": 2
   },
   "file_extension": ".py",
   "mimetype": "text/x-python",
   "name": "python",
   "nbconvert_exporter": "python",
   "pygments_lexer": "ipython2",
   "version": "2.7.6"
  }
 },
 "nbformat": 4,
 "nbformat_minor": 0
}
