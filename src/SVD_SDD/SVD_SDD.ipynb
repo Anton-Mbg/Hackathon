{
 "cells": [
  {
   "cell_type": "code",
   "execution_count": 58,
   "metadata": {
    "collapsed": true
   },
   "outputs": [],
   "source": [
    "import math\n",
    "\n",
    "import numpy as np\n",
    "\n",
    "#return the number k of the first k significant eigenvalues\n",
    "#W is the sorted vector of the eigenvalues\n",
    "def entropy(W):\n",
    "    F = np.ones(len(W))\n",
    "    for i,w in enumerate(W):\n",
    "        F[i] = (W[i]**2)/(sum(x*x for x in W))\n",
    "    E = -1/np.log(len(W)) * sum(f * np.log(f) for f in F)\n",
    "    f_sum = 0\n",
    "    for i,f in enumerate(F):\n",
    "        if f_sum > E:\n",
    "            return i\n",
    "        f_sum += f\n",
    "\n"
   ]
  },
  {
   "cell_type": "code",
   "execution_count": 59,
   "outputs": [],
   "source": [
    "#calcualates the distance between an approximation of x made by the rows in F and x\n",
    "def calculate_distance(F,x):\n",
    "    return np.dot(F @ x, F@x)"
   ],
   "metadata": {
    "collapsed": false
   }
  },
  {
   "cell_type": "code",
   "execution_count": 60,
   "outputs": [],
   "source": [
    "#predicts the labels of the samples in X to the Factormatrices in F\n",
    "def predict(F,X):\n",
    "    labels = []\n",
    "    for x in X:\n",
    "        min_dist = calculate_distance(F[0], x)\n",
    "        label = 0;\n",
    "        for i,f in enumerate(F):\n",
    "            if (calculate_distance(f,x) < min_dist):\n",
    "                min_dist = calculate_distance(f,x);\n",
    "                label = i;\n",
    "        labels.append(label)\n",
    "\n",
    "    return labels"
   ],
   "metadata": {
    "collapsed": false
   }
  },
  {
   "cell_type": "code",
   "execution_count": 61,
   "outputs": [],
   "source": [
    "# F - all the F matrices resulting from SVD\n",
    "# x - Samplevectors\n",
    "def mainFunction(F, X):\n",
    "    labels = predict(F,X)\n",
    "    return labels"
   ],
   "metadata": {
    "collapsed": false
   }
  },
  {
   "cell_type": "code",
   "execution_count": 62,
   "outputs": [],
   "source": [
    "#cleanedData - Matrix of cleaned Data per Desease\n",
    "import matplotlib.pyplot as plt\n",
    "\n",
    "def calcFs(cleanedData):\n",
    "    f_Matrices = []\n",
    "    tmp = []\n",
    "    k = []\n",
    "    for dataset in cleanedData:\n",
    "        c, w, f = np.linalg.svd(dataset, full_matrices=False)\n",
    "        k.append(entropy(w))\n",
    "        tmp.append(f)\n",
    "    for f in tmp:\n",
    "        f_Matrices.append(f[0:int (np.floor(np.mean(k))),:])\n",
    "    return f_Matrices"
   ],
   "metadata": {
    "collapsed": false
   }
  },
  {
   "cell_type": "code",
   "execution_count": 98,
   "outputs": [],
   "source": [
    "import sklearn.model_selection as ms\n",
    "import sklearn.metrics\n",
    "import pandas as pd\n",
    "import math\n",
    "#run SVD and evaluate\n",
    "#either path or DataFrame has to be None (the other leads or contains the data), set normalize to True to normalize the data\n",
    "#returns matthews_coef\n",
    "\n",
    "def SVD(path=\"../unionMatrix_Class.csv\", dataFrame=None, normalize= False):\n",
    "    if path != None:\n",
    "        data = pd.read_csv(path)\n",
    "    else:\n",
    "        data = dataFrame.copy()\n",
    "\n",
    "    if \"sample_ID\" in data.columns:\n",
    "        data = data.drop(\"sample_ID\", axis=1)\n",
    "\n",
    "    if normalize:\n",
    "        labels = data[\"label\"].copy()\n",
    "        data = (data-data.mean())/data.std()\n",
    "        data[\"label\"] = labels\n",
    "        for col in data.columns:\n",
    "            if math.isnan(data[col][0]):\n",
    "                data[col] = np.zeros(len(data[col]))\n",
    "        print(data)\n",
    "\n",
    "\n",
    "    print(np.mean(data.iloc[:,0]),np.std(data.iloc[:,0]))\n",
    "\n",
    "    data = data.iloc[:,1:]\n",
    "    all_data = []\n",
    "    all_data.append(data[data[\"label\"] == 0])\n",
    "    all_data.append(data[data[\"label\"] == 1])\n",
    "    all_data.append(data[data[\"label\"] == 2])\n",
    "    all_data.append(data[data[\"label\"] == 3])\n",
    "    all_data.append(data[data[\"label\"] == 4])\n",
    "    train= []\n",
    "    test = []\n",
    "    true = []\n",
    "    for dat in all_data:\n",
    "        X_train, X_test, Y_train, Y_test = ms.train_test_split(dat.iloc[:,0:-1], dat.iloc[:,-1],test_size=0.2, shuffle=True)\n",
    "        train.append(X_train)\n",
    "        test.append(X_test)\n",
    "        true = true + list(Y_test)\n",
    "\n",
    "    F = calcFs(train)\n",
    "    predicted = []\n",
    "    for i in range(len(test)):\n",
    "        predicted = predicted + list(mainFunction(F,test[i].values))\n",
    "    return sklearn.metrics.matthews_corrcoef(true,predicted)"
   ],
   "metadata": {
    "collapsed": false
   }
  },
  {
   "cell_type": "code",
   "execution_count": 99,
   "outputs": [
    {
     "name": "stdout",
     "output_type": "stream",
     "text": [
      "0.003878975950349108 0.1392114697046265\n"
     ]
    },
    {
     "data": {
      "text/plain": "-0.03138463279550994"
     },
     "execution_count": 99,
     "metadata": {},
     "output_type": "execute_result"
    }
   ],
   "source": [
    "SVD()"
   ],
   "metadata": {
    "collapsed": false
   }
  },
  {
   "cell_type": "code",
   "execution_count": null,
   "outputs": [],
   "source": [],
   "metadata": {
    "collapsed": false
   }
  }
 ],
 "metadata": {
  "kernelspec": {
   "display_name": "Python 3",
   "language": "python",
   "name": "python3"
  },
  "language_info": {
   "codemirror_mode": {
    "name": "ipython",
    "version": 2
   },
   "file_extension": ".py",
   "mimetype": "text/x-python",
   "name": "python",
   "nbconvert_exporter": "python",
   "pygments_lexer": "ipython2",
   "version": "2.7.6"
  }
 },
 "nbformat": 4,
 "nbformat_minor": 0
}
