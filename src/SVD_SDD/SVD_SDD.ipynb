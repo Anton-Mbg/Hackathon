{
 "cells": [
  {
   "cell_type": "code",
   "execution_count": 58,
   "metadata": {
    "collapsed": true
   },
   "outputs": [],
   "source": [
    "import math\n",
    "\n",
    "import numpy as np\n",
    "\n",
    "#return the number k of the first k significant eigenvalues\n",
    "#W is the sorted vector of the eigenvalues\n",
    "def entropy(W):\n",
    "    F = np.ones(len(W))\n",
    "    for i,w in enumerate(W):\n",
    "        F[i] = (W[i]**2)/(sum(x*x for x in W))\n",
    "    E = -1/np.log(len(W)) * sum(f * np.log(f) for f in F)\n",
    "    f_sum = 0\n",
    "    for i,f in enumerate(F):\n",
    "        if f_sum > E:\n",
    "            return i\n",
    "        f_sum += f\n",
    "\n"
   ]
  },
  {
   "cell_type": "code",
   "execution_count": 59,
   "outputs": [],
   "source": [
    "#calcualates the distance between an approximation of x made by the rows in F and x\n",
    "def calculate_distance(F,x):\n",
    "    return np.dot(F @ x, F@x)"
   ],
   "metadata": {
    "collapsed": false
   }
  },
  {
   "cell_type": "code",
   "execution_count": 60,
   "outputs": [],
   "source": [
    "#predicts the labels of the samples in X to the Factormatrices in F\n",
    "def predict(F,X):\n",
    "    labels = []\n",
    "    for x in X:\n",
    "        min_dist = calculate_distance(F[0], x)\n",
    "        label = 0;\n",
    "        for i,f in enumerate(F):\n",
    "            if (calculate_distance(f,x) < min_dist):\n",
    "                min_dist = calculate_distance(f,x);\n",
    "                label = i;\n",
    "        labels.append(label)\n",
    "\n",
    "    return labels"
   ],
   "metadata": {
    "collapsed": false
   }
  },
  {
   "cell_type": "code",
   "execution_count": 61,
   "outputs": [],
   "source": [
    "# F - all the F matrices resulting from SVD\n",
    "# x - Samplevectors\n",
    "def mainFunction(F, X):\n",
    "    labels = predict(F,X)\n",
    "    return labels"
   ],
   "metadata": {
    "collapsed": false
   }
  },
  {
   "cell_type": "code",
   "execution_count": 62,
   "outputs": [],
   "source": [
    "#cleanedData - Matrix of cleaned Data per Desease\n",
    "import matplotlib.pyplot as plt\n",
    "\n",
    "def calcFs(cleanedData):\n",
    "    f_Matrices = []\n",
    "    tmp = []\n",
    "    k = []\n",
    "    for dataset in cleanedData:\n",
    "        c, w, f = np.linalg.svd(dataset, full_matrices=False)\n",
    "        k.append(entropy(w))\n",
    "        tmp.append(f)\n",
    "    for f in tmp:\n",
    "        f_Matrices.append(f[0:int (np.floor(np.mean(k))),:])\n",
    "    return f_Matrices"
   ],
   "metadata": {
    "collapsed": false
   }
  },
  {
   "cell_type": "code",
   "execution_count": 98,
   "outputs": [],
   "source": [
    "import sklearn.model_selection as ms\n",
    "import sklearn.metrics\n",
    "import pandas as pd\n",
    "import math\n",
    "#run SVD and evaluate\n",
    "#either path or DataFrame has to be None (the other leads or contains the data), set normalize to True to normalize the data\n",
    "#returns matthews_coef\n",
    "\n",
    "def SVD(path=\"../unionMatrix_Class.csv\", dataFrame=None, normalize= False):\n",
    "    if path != None:\n",
    "        data = pd.read_csv(path)\n",
    "    else:\n",
    "        data = dataFrame.copy()\n",
    "\n",
    "    if \"sample_ID\" in data.columns:\n",
    "        data = data.drop(\"sample_ID\", axis=1)\n",
    "\n",
    "    if normalize:\n",
    "        labels = data[\"label\"].copy()\n",
    "        data = (data-data.mean())/data.std()\n",
    "        data[\"label\"] = labels\n",
    "        for col in data.columns:\n",
    "            if math.isnan(data[col][0]):\n",
    "                data[col] = np.zeros(len(data[col]))\n",
    "        print(data)\n",
    "\n",
    "\n",
    "    print(np.mean(data.iloc[:,0]),np.std(data.iloc[:,0]))\n",
    "\n",
    "    data = data.iloc[:,1:]\n",
    "    all_data = []\n",
    "    all_data.append(data[data[\"label\"] == 0])\n",
    "    all_data.append(data[data[\"label\"] == 1])\n",
    "    all_data.append(data[data[\"label\"] == 2])\n",
    "    all_data.append(data[data[\"label\"] == 3])\n",
    "    all_data.append(data[data[\"label\"] == 4])\n",
    "    train= []\n",
    "    test = []\n",
    "    true = []\n",
    "    for dat in all_data:\n",
    "        X_train, X_test, Y_train, Y_test = ms.train_test_split(dat.iloc[:,0:-1], dat.iloc[:,-1],test_size=0.2, shuffle=True)\n",
    "        train.append(X_train)\n",
    "        test.append(X_test)\n",
    "        true = true + list(Y_test)\n",
    "\n",
    "    F = calcFs(train)\n",
    "    predicted = []\n",
    "    for i in range(len(test)):\n",
    "        predicted = predicted + list(mainFunction(F,test[i].values))\n",
    "    return sklearn.metrics.matthews_corrcoef(true,predicted)"
   ],
   "metadata": {
    "collapsed": false
   }
  },
  {
   "cell_type": "code",
   "execution_count": 97,
   "outputs": [
    {
     "name": "stdout",
     "output_type": "stream",
     "text": [
      "      Bacteria;Abditibacteriota;Abditibacteria  \\\n",
      "0                                    -0.027853   \n",
      "1                                    -0.027853   \n",
      "2                                    -0.027853   \n",
      "3                                    -0.027853   \n",
      "4                                    -0.027853   \n",
      "...                                        ...   \n",
      "1284                                 -0.027853   \n",
      "1285                                 -0.027853   \n",
      "1286                                 -0.027853   \n",
      "1287                                 -0.027853   \n",
      "1288                                 -0.027853   \n",
      "\n",
      "      Bacteria;Acidobacteriota;Aminicenantia  \\\n",
      "0                                  -0.028854   \n",
      "1                                  -0.028854   \n",
      "2                                  -0.028854   \n",
      "3                                  -0.028854   \n",
      "4                                  -0.028854   \n",
      "...                                      ...   \n",
      "1284                               -0.028854   \n",
      "1285                               -0.028854   \n",
      "1286                               -0.028854   \n",
      "1287                               -0.028854   \n",
      "1288                               -0.028854   \n",
      "\n",
      "      Bacteria;Acidobacteriota;Blastocatellia  \\\n",
      "0                                   -0.058983   \n",
      "1                                   -0.058983   \n",
      "2                                   -0.058983   \n",
      "3                                   -0.058983   \n",
      "4                                   -0.058983   \n",
      "...                                       ...   \n",
      "1284                                -0.058983   \n",
      "1285                                -0.058983   \n",
      "1286                                -0.058983   \n",
      "1287                                -0.058983   \n",
      "1288                                -0.058983   \n",
      "\n",
      "      Bacteria;Actinobacteriota;Acidimicrobiia  \\\n",
      "0                                    -0.080635   \n",
      "1                                    -0.080635   \n",
      "2                                    -0.080635   \n",
      "3                                    -0.080635   \n",
      "4                                    -0.080635   \n",
      "...                                        ...   \n",
      "1284                                 -0.080635   \n",
      "1285                                 -0.080635   \n",
      "1286                                 -0.080635   \n",
      "1287                                 -0.080635   \n",
      "1288                                 -0.080635   \n",
      "\n",
      "      Bacteria;Actinobacteriota;Actinobacteria  \\\n",
      "0                                    -0.207354   \n",
      "1                                    -0.075449   \n",
      "2                                    -0.101830   \n",
      "3                                    -0.194163   \n",
      "4                                    -0.167782   \n",
      "...                                        ...   \n",
      "1284                                  0.557694   \n",
      "1285                                  0.188361   \n",
      "1286                                 -0.101830   \n",
      "1287                                 -0.075449   \n",
      "1288                                 -0.115020   \n",
      "\n",
      "      Bacteria;Actinobacteriota;Coriobacteriia  \\\n",
      "0                                    -0.424170   \n",
      "1                                     0.063687   \n",
      "2                                     0.460221   \n",
      "3                                    -0.484251   \n",
      "4                                    -0.114153   \n",
      "...                                        ...   \n",
      "1284                                  1.390274   \n",
      "1285                                 -0.299202   \n",
      "1286                                 -0.267960   \n",
      "1287                                 -0.291992   \n",
      "1288                                  4.992726   \n",
      "\n",
      "      Bacteria;Actinobacteriota;Thermoleophilia  \\\n",
      "0                                     -0.042225   \n",
      "1                                     -0.042225   \n",
      "2                                     -0.042225   \n",
      "3                                     -0.042225   \n",
      "4                                     -0.042225   \n",
      "...                                         ...   \n",
      "1284                                  -0.042225   \n",
      "1285                                  -0.042225   \n",
      "1286                                  -0.042225   \n",
      "1287                                  -0.042225   \n",
      "1288                                  -0.042225   \n",
      "\n",
      "      Bacteria;Bacteroidota;Bacteroidia  \\\n",
      "0                             -0.086133   \n",
      "1                             -0.119824   \n",
      "2                              0.120427   \n",
      "3                             -0.228565   \n",
      "4                             -0.388190   \n",
      "...                                 ...   \n",
      "1284                          -1.273682   \n",
      "1285                           0.953175   \n",
      "1286                          -0.901687   \n",
      "1287                          -0.907728   \n",
      "1288                           0.218247   \n",
      "\n",
      "      Bacteria;Bdellovibrionota;Bdellovibrionia  \\\n",
      "0                                     -0.038639   \n",
      "1                                     -0.038639   \n",
      "2                                     -0.038639   \n",
      "3                                     -0.038639   \n",
      "4                                     -0.038639   \n",
      "...                                         ...   \n",
      "1284                                  -0.038639   \n",
      "1285                                  -0.038639   \n",
      "1286                                  -0.038639   \n",
      "1287                                  -0.038639   \n",
      "1288                                  -0.038639   \n",
      "\n",
      "      Bacteria;Bdellovibrionota;Oligoflexia  ...  \\\n",
      "0                                 -0.098053  ...   \n",
      "1                                 -0.098053  ...   \n",
      "2                                 -0.098053  ...   \n",
      "3                                 -0.098053  ...   \n",
      "4                                 -0.098053  ...   \n",
      "...                                     ...  ...   \n",
      "1284                              -0.098053  ...   \n",
      "1285                              -0.098053  ...   \n",
      "1286                              -0.098053  ...   \n",
      "1287                              -0.098053  ...   \n",
      "1288                              -0.098053  ...   \n",
      "\n",
      "      Bacteria;Nitrospirota;Nitrospiria  \\\n",
      "0                             -0.027853   \n",
      "1                             -0.027853   \n",
      "2                             -0.027853   \n",
      "3                             -0.027853   \n",
      "4                             -0.027853   \n",
      "...                                 ...   \n",
      "1284                          -0.027853   \n",
      "1285                          -0.027853   \n",
      "1286                          -0.027853   \n",
      "1287                          -0.027853   \n",
      "1288                          -0.027853   \n",
      "\n",
      "      Bacteria;Patescibacteria;Saccharimonadia  \\\n",
      "0                                    -0.189065   \n",
      "1                                    -0.379460   \n",
      "2                                    -0.379460   \n",
      "3                                    -0.379460   \n",
      "4                                     0.572513   \n",
      "...                                        ...   \n",
      "1284                                  0.762908   \n",
      "1285                                  0.572513   \n",
      "1286                                 -0.379460   \n",
      "1287                                 -0.379460   \n",
      "1288                                 -0.189065   \n",
      "\n",
      "      Bacteria;Proteobacteria;Alphaproteobacteria  \\\n",
      "0                                       -0.182055   \n",
      "1                                       -0.182055   \n",
      "2                                       -0.182055   \n",
      "3                                       -0.182055   \n",
      "4                                        2.252265   \n",
      "...                                           ...   \n",
      "1284                                     2.252265   \n",
      "1285                                    -0.182055   \n",
      "1286                                    -0.182055   \n",
      "1287                                    -0.182055   \n",
      "1288                                     0.142521   \n",
      "\n",
      "      Bacteria;Proteobacteria;Gammaproteobacteria  \\\n",
      "0                                       -0.552820   \n",
      "1                                       -0.184417   \n",
      "2                                       -0.445213   \n",
      "3                                       -0.534138   \n",
      "4                                       -0.566271   \n",
      "...                                           ...   \n",
      "1284                                    -0.422048   \n",
      "1285                                    -0.166234   \n",
      "1286                                    -0.396392   \n",
      "1287                                     0.910826   \n",
      "1288                                    -0.572498   \n",
      "\n",
      "      Bacteria;Spirochaetota;Brachyspirae  \\\n",
      "0                                -0.04266   \n",
      "1                                -0.04266   \n",
      "2                                -0.04266   \n",
      "3                                -0.04266   \n",
      "4                                -0.04266   \n",
      "...                                   ...   \n",
      "1284                             -0.04266   \n",
      "1285                             -0.04266   \n",
      "1286                             -0.04266   \n",
      "1287                             -0.04266   \n",
      "1288                             -0.04266   \n",
      "\n",
      "      Bacteria;Spirochaetota;Spirochaetia  Bacteria;Synergistota;Synergistia  \\\n",
      "0                               -0.053101                          -0.034313   \n",
      "1                               -0.053101                          -0.034313   \n",
      "2                               -0.053101                          -0.034313   \n",
      "3                               -0.053101                          -0.034313   \n",
      "4                               -0.053101                          -0.034313   \n",
      "...                                   ...                                ...   \n",
      "1284                            -0.053101                          -0.034313   \n",
      "1285                            -0.053101                          -0.034313   \n",
      "1286                            -0.053101                          -0.034313   \n",
      "1287                            -0.053101                          -0.034313   \n",
      "1288                            -0.053101                          -0.034313   \n",
      "\n",
      "      Bacteria;Verrucomicrobiota;Lentisphaeria  \\\n",
      "0                                    -0.039173   \n",
      "1                                    -0.039173   \n",
      "2                                    -0.039173   \n",
      "3                                    -0.039173   \n",
      "4                                    -0.039173   \n",
      "...                                        ...   \n",
      "1284                                 -0.039173   \n",
      "1285                                 -0.039173   \n",
      "1286                                 -0.039173   \n",
      "1287                                 -0.039173   \n",
      "1288                                 -0.039173   \n",
      "\n",
      "      Bacteria;Verrucomicrobiota;Verrucomicrobiae  label  \n",
      "0                                       -0.241577      1  \n",
      "1                                        4.422455      0  \n",
      "2                                       -0.241577      0  \n",
      "3                                       -0.241577      0  \n",
      "4                                       -0.241577      1  \n",
      "...                                           ...    ...  \n",
      "1284                                    -0.241577      2  \n",
      "1285                                     1.130197      1  \n",
      "1286                                    -0.241577      1  \n",
      "1287                                    -0.241577      1  \n",
      "1288                                     0.032778      0  \n",
      "\n",
      "[1289 rows x 39 columns]\n",
      "-1.1024712734834758e-17 0.9996120271434964\n"
     ]
    },
    {
     "data": {
      "text/plain": "0.041258890246774683"
     },
     "execution_count": 97,
     "metadata": {},
     "output_type": "execute_result"
    }
   ],
   "source": [
    "SVD()"
   ],
   "metadata": {
    "collapsed": false
   }
  },
  {
   "cell_type": "code",
   "execution_count": 108,
   "outputs": [
    {
     "data": {
      "text/plain": "-0.00848302367240745"
     },
     "execution_count": 108,
     "metadata": {},
     "output_type": "execute_result"
    }
   ],
   "source": [
    "import sklearn.metrics\n",
    "sklearn.metrics.matthews_corrcoef(true,predicted)"
   ],
   "metadata": {
    "collapsed": false
   }
  },
  {
   "cell_type": "code",
   "execution_count": 24,
   "outputs": [
    {
     "data": {
      "text/plain": "[0,\n 0,\n 0,\n 0,\n 0,\n 0,\n 0,\n 0,\n 0,\n 0,\n 0,\n 0,\n 0,\n 0,\n 0,\n 0,\n 0,\n 0,\n 0,\n 0,\n 0,\n 0,\n 0,\n 0,\n 0,\n 0,\n 0,\n 0,\n 0,\n 0,\n 0,\n 0,\n 0,\n 0,\n 0,\n 0,\n 0,\n 0,\n 0,\n 0,\n 0,\n 0,\n 0,\n 0,\n 0,\n 0,\n 0,\n 0,\n 0,\n 0,\n 0,\n 0,\n 0,\n 0,\n 0,\n 0,\n 0,\n 0,\n 0,\n 0,\n 0,\n 0,\n 0,\n 0,\n 0,\n 0,\n 0,\n 0,\n 0,\n 0,\n 0,\n 0,\n 0,\n 0,\n 0,\n 0,\n 0,\n 0,\n 0,\n 0,\n 0,\n 0,\n 0,\n 0,\n 0,\n 0,\n 0,\n 0,\n 0,\n 0,\n 0,\n 0,\n 0,\n 0,\n 0,\n 0,\n 0,\n 0,\n 0,\n 0,\n 0,\n 0,\n 0,\n 0,\n 0,\n 0,\n 0,\n 0,\n 0,\n 0,\n 0,\n 0,\n 0,\n 0,\n 0,\n 0,\n 0,\n 0,\n 0,\n 0,\n 0,\n 0,\n 0,\n 0,\n 0,\n 1,\n 1,\n 1,\n 1,\n 1,\n 1,\n 1,\n 1,\n 1,\n 1,\n 1,\n 1,\n 1,\n 1,\n 1,\n 1,\n 1,\n 1,\n 1,\n 1,\n 1,\n 1,\n 1,\n 1,\n 1,\n 1,\n 1,\n 1,\n 1,\n 1,\n 1,\n 1,\n 1,\n 1,\n 1,\n 1,\n 1,\n 1,\n 1,\n 1,\n 1,\n 1,\n 1,\n 1,\n 1,\n 1,\n 1,\n 1,\n 1,\n 1,\n 1,\n 1,\n 1,\n 1,\n 1,\n 1,\n 1,\n 1,\n 1,\n 1,\n 1,\n 1,\n 1,\n 1,\n 1,\n 1,\n 1,\n 1,\n 1,\n 1,\n 1,\n 1,\n 1,\n 1,\n 1,\n 1,\n 1,\n 1,\n 1,\n 1,\n 1,\n 1,\n 1,\n 1,\n 1,\n 1,\n 1,\n 1,\n 1,\n 1,\n 1,\n 1,\n 1,\n 1,\n 1,\n 1,\n 1,\n 1,\n 1,\n 1,\n 1,\n 1,\n 1,\n 1,\n 2,\n 2,\n 2,\n 2,\n 2,\n 2,\n 2,\n 2,\n 2,\n 2,\n 2,\n 2,\n 2,\n 2,\n 2,\n 2,\n 2,\n 3,\n 3,\n 3,\n 3,\n 3,\n 3,\n 3,\n 3,\n 3,\n 4,\n 4,\n 4,\n 4,\n 4,\n 4]"
     },
     "execution_count": 24,
     "metadata": {},
     "output_type": "execute_result"
    }
   ],
   "source": [
    "true"
   ],
   "metadata": {
    "collapsed": false
   }
  },
  {
   "cell_type": "code",
   "execution_count": 25,
   "outputs": [
    {
     "data": {
      "text/plain": "[4,\n 0,\n 0,\n 0,\n 3,\n 0,\n 4,\n 4,\n 0,\n 0,\n 0,\n 3,\n 0,\n 3,\n 3,\n 4,\n 0,\n 0,\n 0,\n 0,\n 0,\n 4,\n 0,\n 0,\n 4,\n 4,\n 0,\n 4,\n 0,\n 4,\n 0,\n 0,\n 0,\n 3,\n 4,\n 4,\n 0,\n 0,\n 0,\n 0,\n 0,\n 3,\n 0,\n 4,\n 3,\n 4,\n 0,\n 0,\n 0,\n 0,\n 4,\n 0,\n 3,\n 0,\n 0,\n 4,\n 4,\n 0,\n 0,\n 0,\n 0,\n 0,\n 0,\n 0,\n 4,\n 0,\n 4,\n 0,\n 0,\n 4,\n 3,\n 4,\n 0,\n 0,\n 0,\n 0,\n 4,\n 0,\n 0,\n 0,\n 0,\n 0,\n 3,\n 3,\n 4,\n 0,\n 4,\n 0,\n 4,\n 3,\n 3,\n 0,\n 0,\n 0,\n 4,\n 0,\n 0,\n 0,\n 0,\n 0,\n 0,\n 0,\n 0,\n 4,\n 0,\n 0,\n 0,\n 0,\n 0,\n 0,\n 0,\n 0,\n 0,\n 0,\n 0,\n 0,\n 3,\n 0,\n 0,\n 3,\n 0,\n 0,\n 4,\n 4,\n 4,\n 4,\n 4,\n 3,\n 3,\n 3,\n 0,\n 0,\n 0,\n 0,\n 3,\n 0,\n 0,\n 3,\n 0,\n 3,\n 0,\n 0,\n 0,\n 3,\n 0,\n 0,\n 0,\n 0,\n 3,\n 0,\n 0,\n 4,\n 0,\n 0,\n 0,\n 0,\n 0,\n 0,\n 0,\n 0,\n 4,\n 0,\n 3,\n 3,\n 3,\n 0,\n 4,\n 3,\n 0,\n 0,\n 0,\n 4,\n 4,\n 3,\n 0,\n 0,\n 0,\n 3,\n 0,\n 0,\n 3,\n 3,\n 0,\n 0,\n 0,\n 4,\n 0,\n 3,\n 3,\n 0,\n 0,\n 4,\n 0,\n 4,\n 4,\n 0,\n 0,\n 0,\n 0,\n 0,\n 0,\n 0,\n 0,\n 0,\n 0,\n 0,\n 4,\n 3,\n 0,\n 3,\n 0,\n 3,\n 0,\n 3,\n 0,\n 0,\n 0,\n 0,\n 4,\n 4,\n 3,\n 0,\n 3,\n 4,\n 0,\n 4,\n 0,\n 0,\n 4,\n 0,\n 0,\n 0,\n 4,\n 0,\n 4,\n 3,\n 3,\n 0,\n 3,\n 0,\n 3,\n 3,\n 4,\n 0,\n 0,\n 0,\n 0,\n 0,\n 4,\n 0,\n 3,\n 0,\n 3,\n 0,\n 0,\n 0,\n 0,\n 0,\n 3,\n 4,\n 4]"
     },
     "execution_count": 25,
     "metadata": {},
     "output_type": "execute_result"
    }
   ],
   "source": [
    "predicted"
   ],
   "metadata": {
    "collapsed": false
   }
  },
  {
   "cell_type": "code",
   "execution_count": null,
   "outputs": [],
   "source": [],
   "metadata": {
    "collapsed": false
   }
  }
 ],
 "metadata": {
  "kernelspec": {
   "display_name": "Python 3",
   "language": "python",
   "name": "python3"
  },
  "language_info": {
   "codemirror_mode": {
    "name": "ipython",
    "version": 2
   },
   "file_extension": ".py",
   "mimetype": "text/x-python",
   "name": "python",
   "nbconvert_exporter": "python",
   "pygments_lexer": "ipython2",
   "version": "2.7.6"
  }
 },
 "nbformat": 4,
 "nbformat_minor": 0
}
