{
 "cells": [
  {
   "cell_type": "code",
   "execution_count": 2,
   "metadata": {
    "collapsed": true
   },
   "outputs": [],
   "source": [
    "import numpy as np\n",
    "\n",
    "#return the number k of the first k significant eigenvalues\n",
    "#W is the sorted vector of the eigenvalues\n",
    "def entropy(W):\n",
    "    F = W\n",
    "    for i,w in enumerate(W):\n",
    "        F[i] = w[i]**2/(sum(x**2 for x in W))\n",
    "    E = -1/np.log(len(W)) * sum(f * np.log(f) for f in F)\n",
    "    f_sum = 0\n",
    "    for i,f in enumerate(F):\n",
    "        if f_sum > E:\n",
    "            return i\n",
    "        f_sum += f\n",
    "\n"
   ]
  },
  {
   "cell_type": "markdown",
   "source": [],
   "metadata": {
    "collapsed": false
   }
  }
 ],
 "metadata": {
  "kernelspec": {
   "display_name": "Python 3",
   "language": "python",
   "name": "python3"
  },
  "language_info": {
   "codemirror_mode": {
    "name": "ipython",
    "version": 2
   },
   "file_extension": ".py",
   "mimetype": "text/x-python",
   "name": "python",
   "nbconvert_exporter": "python",
   "pygments_lexer": "ipython2",
   "version": "2.7.6"
  }
 },
 "nbformat": 4,
 "nbformat_minor": 0
}
