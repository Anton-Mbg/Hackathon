{
 "cells": [
  {
   "cell_type": "code",
   "execution_count": 143,
   "metadata": {
    "collapsed": true
   },
   "outputs": [],
   "source": [
    "import pandas as pd"
   ]
  },
  {
   "cell_type": "code",
   "execution_count": 144,
   "outputs": [],
   "source": [
    "data1 = pd.read_csv(\"../HackathonMicrobiomeData/EFS.csv\")\n",
    "data1 = data1.columns\n",
    "data1 = [w.replace(\".\", \";\") for w in data1]"
   ],
   "metadata": {
    "collapsed": false
   }
  },
  {
   "cell_type": "code",
   "execution_count": 145,
   "outputs": [],
   "source": [
    "data2 = pd.read_csv(\"../HackathonMicrobiomeData/classCADremoved.csv\")\n",
    "#print(data2[\"class variable\"])\n",
    "data2 = data2.columns"
   ],
   "metadata": {
    "collapsed": false
   }
  },
  {
   "cell_type": "code",
   "execution_count": 146,
   "outputs": [
    {
     "data": {
      "text/plain": "['Bacteria;Abditibacteriota;Abditibacteria',\n 'Bacteria;Elusimicrobiota;Lineage IIa',\n 'class variable',\n 'Bacteria;Firmicutes;Incertae Sedis']"
     },
     "execution_count": 146,
     "metadata": {},
     "output_type": "execute_result"
    }
   ],
   "source": [
    "list(set(sorted(list(data2))) - set(sorted(list(data1))))"
   ],
   "metadata": {
    "collapsed": false
   }
  },
  {
   "cell_type": "code",
   "execution_count": 147,
   "outputs": [
    {
     "data": {
      "text/plain": "                                                    0\nBacteria.Actinobacteriota.Coriobacteriia     0.760798\nBacteria.Actinobacteriota.Actinobacteria     0.638237\nBacteria.Fusobacteriota.Fusobacteriia        0.593016\nBacteria.Bacteroidota.Bacteroidia             0.44589\nBacteria.Firmicutes.Clostridia               0.431996\nBacteria.Firmicutes.Bacilli                   0.40228\nBacteria.Bdellovibrionota.Bdellovibrionia    0.398976\nBacteria.Spirochaetota.Brachyspirae          0.317946\nBacteria.Firmicutes.Negativicutes            0.292002\nBacteria.Verrucomicrobiota.Lentisphaeria     0.280834\nBacteria.Proteobacteria.Gammaproteobacteria  0.280417\nBacteria.Cyanobacteria.Vampirivibrionia      0.255113\nBacteria.Proteobacteria.Alphaproteobacteria  0.249099\nBacteria.Spirochaetota.Spirochaetia           0.23865\nBacteria.Desulfobacterota.Desulfovibrionia   0.224652\nBacteria.Desulfobacterota.Desulfuromonadia   0.191009\nBacteria.Verrucomicrobiota.Verrucomicrobiae  0.143932\nBacteria.Firmicutes.uncultured                0.13715\nBacteria.Myxococcota.Polyangia                0.12706\nBacteria.Actinobacteriota.Acidimicrobiia     0.117243\nBacteria.Bdellovibrionota.Oligoflexia        0.111521\nBacteria.Patescibacteria.Saccharimonadia     0.109813\nBacteria.Firmicutes.Incertae.Sedis           0.102583\nBacteria.Elusimicrobiota.Elusimicrobia       0.097768\nBacteria.Actinobacteriota.Thermoleophilia    0.082428\nBacteria.Acidobacteriota.Aminicenantia       0.080459\nBacteria.Fibrobacterota.Fibrobacteria        0.080236\nBacteria.Campilobacterota.Campylobacteria    0.065958\nBacteria.Myxococcota.bacteriap25             0.059444\nBacteria.Acidobacteriota.Blastocatellia      0.059085\nBacteria.Elusimicrobiota.Lineage.IIa         0.059058\nBacteria.Firmicutes.Moorellia                0.059034\nBacteria.Nitrospirota.Nitrospiria            0.058934\nBacteria.Dependentiae.Babeliae               0.058923\nBacteria.Firmicutes.Limnochordia             0.057502\nBacteria.Synergistota.Synergistia            0.047046\nBacteria.Chloroflexi.Anaerolineae             0.03588",
      "text/html": "<div>\n<style scoped>\n    .dataframe tbody tr th:only-of-type {\n        vertical-align: middle;\n    }\n\n    .dataframe tbody tr th {\n        vertical-align: top;\n    }\n\n    .dataframe thead th {\n        text-align: right;\n    }\n</style>\n<table border=\"1\" class=\"dataframe\">\n  <thead>\n    <tr style=\"text-align: right;\">\n      <th></th>\n      <th>0</th>\n    </tr>\n  </thead>\n  <tbody>\n    <tr>\n      <th>Bacteria.Actinobacteriota.Coriobacteriia</th>\n      <td>0.760798</td>\n    </tr>\n    <tr>\n      <th>Bacteria.Actinobacteriota.Actinobacteria</th>\n      <td>0.638237</td>\n    </tr>\n    <tr>\n      <th>Bacteria.Fusobacteriota.Fusobacteriia</th>\n      <td>0.593016</td>\n    </tr>\n    <tr>\n      <th>Bacteria.Bacteroidota.Bacteroidia</th>\n      <td>0.44589</td>\n    </tr>\n    <tr>\n      <th>Bacteria.Firmicutes.Clostridia</th>\n      <td>0.431996</td>\n    </tr>\n    <tr>\n      <th>Bacteria.Firmicutes.Bacilli</th>\n      <td>0.40228</td>\n    </tr>\n    <tr>\n      <th>Bacteria.Bdellovibrionota.Bdellovibrionia</th>\n      <td>0.398976</td>\n    </tr>\n    <tr>\n      <th>Bacteria.Spirochaetota.Brachyspirae</th>\n      <td>0.317946</td>\n    </tr>\n    <tr>\n      <th>Bacteria.Firmicutes.Negativicutes</th>\n      <td>0.292002</td>\n    </tr>\n    <tr>\n      <th>Bacteria.Verrucomicrobiota.Lentisphaeria</th>\n      <td>0.280834</td>\n    </tr>\n    <tr>\n      <th>Bacteria.Proteobacteria.Gammaproteobacteria</th>\n      <td>0.280417</td>\n    </tr>\n    <tr>\n      <th>Bacteria.Cyanobacteria.Vampirivibrionia</th>\n      <td>0.255113</td>\n    </tr>\n    <tr>\n      <th>Bacteria.Proteobacteria.Alphaproteobacteria</th>\n      <td>0.249099</td>\n    </tr>\n    <tr>\n      <th>Bacteria.Spirochaetota.Spirochaetia</th>\n      <td>0.23865</td>\n    </tr>\n    <tr>\n      <th>Bacteria.Desulfobacterota.Desulfovibrionia</th>\n      <td>0.224652</td>\n    </tr>\n    <tr>\n      <th>Bacteria.Desulfobacterota.Desulfuromonadia</th>\n      <td>0.191009</td>\n    </tr>\n    <tr>\n      <th>Bacteria.Verrucomicrobiota.Verrucomicrobiae</th>\n      <td>0.143932</td>\n    </tr>\n    <tr>\n      <th>Bacteria.Firmicutes.uncultured</th>\n      <td>0.13715</td>\n    </tr>\n    <tr>\n      <th>Bacteria.Myxococcota.Polyangia</th>\n      <td>0.12706</td>\n    </tr>\n    <tr>\n      <th>Bacteria.Actinobacteriota.Acidimicrobiia</th>\n      <td>0.117243</td>\n    </tr>\n    <tr>\n      <th>Bacteria.Bdellovibrionota.Oligoflexia</th>\n      <td>0.111521</td>\n    </tr>\n    <tr>\n      <th>Bacteria.Patescibacteria.Saccharimonadia</th>\n      <td>0.109813</td>\n    </tr>\n    <tr>\n      <th>Bacteria.Firmicutes.Incertae.Sedis</th>\n      <td>0.102583</td>\n    </tr>\n    <tr>\n      <th>Bacteria.Elusimicrobiota.Elusimicrobia</th>\n      <td>0.097768</td>\n    </tr>\n    <tr>\n      <th>Bacteria.Actinobacteriota.Thermoleophilia</th>\n      <td>0.082428</td>\n    </tr>\n    <tr>\n      <th>Bacteria.Acidobacteriota.Aminicenantia</th>\n      <td>0.080459</td>\n    </tr>\n    <tr>\n      <th>Bacteria.Fibrobacterota.Fibrobacteria</th>\n      <td>0.080236</td>\n    </tr>\n    <tr>\n      <th>Bacteria.Campilobacterota.Campylobacteria</th>\n      <td>0.065958</td>\n    </tr>\n    <tr>\n      <th>Bacteria.Myxococcota.bacteriap25</th>\n      <td>0.059444</td>\n    </tr>\n    <tr>\n      <th>Bacteria.Acidobacteriota.Blastocatellia</th>\n      <td>0.059085</td>\n    </tr>\n    <tr>\n      <th>Bacteria.Elusimicrobiota.Lineage.IIa</th>\n      <td>0.059058</td>\n    </tr>\n    <tr>\n      <th>Bacteria.Firmicutes.Moorellia</th>\n      <td>0.059034</td>\n    </tr>\n    <tr>\n      <th>Bacteria.Nitrospirota.Nitrospiria</th>\n      <td>0.058934</td>\n    </tr>\n    <tr>\n      <th>Bacteria.Dependentiae.Babeliae</th>\n      <td>0.058923</td>\n    </tr>\n    <tr>\n      <th>Bacteria.Firmicutes.Limnochordia</th>\n      <td>0.057502</td>\n    </tr>\n    <tr>\n      <th>Bacteria.Synergistota.Synergistia</th>\n      <td>0.047046</td>\n    </tr>\n    <tr>\n      <th>Bacteria.Chloroflexi.Anaerolineae</th>\n      <td>0.03588</td>\n    </tr>\n  </tbody>\n</table>\n</div>"
     },
     "execution_count": 147,
     "metadata": {},
     "output_type": "execute_result"
    }
   ],
   "source": [
    "data = pd.read_csv(\"../HackathonMicrobiomeData/EFS.csv\")\n",
    "data = data.sum(axis=0)\n",
    "data = data[1:]\n",
    "data = data.to_frame()\n",
    "data.sort_values(by = 0, ascending = False)"
   ],
   "metadata": {
    "collapsed": false
   }
  },
  {
   "cell_type": "code",
   "execution_count": null,
   "outputs": [],
   "source": [],
   "metadata": {
    "collapsed": false
   }
  }
 ],
 "metadata": {
  "kernelspec": {
   "display_name": "Python 3",
   "language": "python",
   "name": "python3"
  },
  "language_info": {
   "codemirror_mode": {
    "name": "ipython",
    "version": 2
   },
   "file_extension": ".py",
   "mimetype": "text/x-python",
   "name": "python",
   "nbconvert_exporter": "python",
   "pygments_lexer": "ipython2",
   "version": "2.7.6"
  }
 },
 "nbformat": 4,
 "nbformat_minor": 0
}
