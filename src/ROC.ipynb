{
 "cells": [
  {
   "cell_type": "code",
   "execution_count": 19,
   "metadata": {
    "collapsed": true
   },
   "outputs": [
    {
     "data": {
      "text/plain": "<Figure size 640x480 with 1 Axes>",
      "image/png": "[encoded data removed]"
     },
     "metadata": {},
     "output_type": "display_data"
    }
   ],
   "source": [
    "from matplotlib.pyplot import plot\n",
    "import numpy as np\n",
    "\n",
    "\n",
    "\n",
    "#plots the ROC curve off given data prediction.\n",
    "#IMPORTANT: the predicted p-value has to be a column in the \"pred\" dataset. Its col name is passed to \"alphaColName\"(labes has to be there to)\n",
    "\n",
    "\n",
    "\n",
    "def ROC(pred, alphaColName, steps):\n",
    "\n",
    "    X = []\n",
    "    Y = []\n",
    "\n",
    "\n",
    "    for alpha in np.arange(0, 1, steps):\n",
    "        x,y = ROCHelper(pred, alphaColName, alpha)\n",
    "        X.append(x)\n",
    "        Y.append(y)\n",
    "    plot(X,Y)\n",
    "\n",
    "\n",
    "\n",
    "\n",
    "#retruns true pos rate and false neg rate for one alpha\n",
    "\n",
    "def ROCHelper(pred, alphaColName, alpha):\n",
    "\n",
    "    predTrue = pred.loc[pred[alphaColName] >= alpha]\n",
    "    predFalse = pred.loc[pred[alphaColName] <= alpha]\n",
    "\n",
    "    TP = predTrue.loc[predTrue[\"label\"]==1].count()\n",
    "    FP = predTrue.loc[predTrue[\"label\"]==0].count()\n",
    "    TN = predFalse.loc[predFalse[\"label\"]==0].count()\n",
    "    FN = predFalse.loc[predFalse[\"label\"]==1].count()\n",
    "\n",
    "\n",
    "    FPR = FP / (FP + TN)\n",
    "\n",
    "    TPR = TP / (TP + FN)\n",
    "\n",
    "    return TPR,FPR\n",
    "\n",
    "\n",
    "import pandas as pd\n",
    "import random\n",
    "\n",
    "pred =  pd.read_csv(\"../HackathonMicrobiomeData/CAD/ClassCAD_train.csv\")\n",
    "\n",
    "alphaCol = []\n",
    "\n",
    "for i in range(0,pred.shape[0]):\n",
    "    alphaCol.append(random.uniform(0, 1))\n",
    "\n",
    "pred[\"bumpo\"] = alphaCol\n",
    "ROC(pred, \"bumpo\", 0.001)\n",
    "\n",
    "\n"
   ]
  },
  {
   "cell_type": "code",
   "execution_count": null,
   "outputs": [],
   "source": [],
   "metadata": {
    "collapsed": false
   }
  }
 ],
 "metadata": {
  "kernelspec": {
   "display_name": "Python 3",
   "language": "python",
   "name": "python3"
  },
  "language_info": {
   "codemirror_mode": {
    "name": "ipython",
    "version": 2
   },
   "file_extension": ".py",
   "mimetype": "text/x-python",
   "name": "python",
   "nbconvert_exporter": "python",
   "pygments_lexer": "ipython2",
   "version": "2.7.6"
  }
 },
 "nbformat": 4,
 "nbformat_minor": 0
}
